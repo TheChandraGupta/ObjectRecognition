{
  "nbformat": 4,
  "nbformat_minor": 0,
  "metadata": {
    "colab": {
      "name": "TensorFlow with GPU",
      "version": "0.3.2",
      "provenance": [],
      "collapsed_sections": [],
      "toc_visible": true,
      "include_colab_link": true
    },
    "kernelspec": {
      "name": "python3",
      "display_name": "Python 3"
    },
    "accelerator": "GPU"
  },
  "cells": [
    {
      "cell_type": "markdown",
      "metadata": {
        "id": "view-in-github",
        "colab_type": "text"
      },
      "source": [
        "<a href=\"https://colab.research.google.com/github/thegreatgupta/ObjectRecognition/blob/master/MobileNet_06_TensorFlow_with_GPU.ipynb\" target=\"_parent\"><img src=\"https://colab.research.google.com/assets/colab-badge.svg\" alt=\"Open In Colab\"/></a>"
      ]
    },
    {
      "metadata": {
        "colab_type": "text",
        "id": "BlmQIFSLZDdc"
      },
      "cell_type": "markdown",
      "source": [
        "# Confirm TensorFlow can see the GPU\n",
        "\n",
        "Simply select \"GPU\" in the Accelerator drop-down in Notebook Settings (either through the Edit menu or the command palette at cmd/ctrl-shift-P)."
      ]
    },
    {
      "metadata": {
        "colab_type": "code",
        "id": "3IEVK-KFxi5Z",
        "outputId": "f7f0830c-8d5f-437a-9eb7-4c95c3b1771c",
        "colab": {
          "base_uri": "https://localhost:8080/",
          "height": 35
        }
      },
      "cell_type": "code",
      "source": [
        "import tensorflow as tf\n",
        "device_name = tf.test.gpu_device_name()\n",
        "if device_name != '/device:GPU:0':\n",
        "  raise SystemError('GPU device not found')\n",
        "print('Found GPU at: {}'.format(device_name))"
      ],
      "execution_count": 0,
      "outputs": [
        {
          "output_type": "stream",
          "text": [
            "Found GPU at: /device:GPU:0\n"
          ],
          "name": "stdout"
        }
      ]
    },
    {
      "metadata": {
        "colab_type": "text",
        "id": "QXRh0DPiZRyG"
      },
      "cell_type": "markdown",
      "source": [
        "# Observe TensorFlow speedup on GPU relative to CPU\n",
        "\n",
        "This example constructs a typical convolutional neural network layer over a\n",
        "random image and manually places the resulting ops on either the CPU or the GPU\n",
        "to compare execution speed."
      ]
    },
    {
      "metadata": {
        "colab_type": "code",
        "id": "t9ALbbpmY9rm",
        "outputId": "39097564-008c-4abe-fabc-3c8b8c9b336f",
        "colab": {
          "base_uri": "https://localhost:8080/",
          "height": 124
        }
      },
      "cell_type": "code",
      "source": [
        "import tensorflow as tf\n",
        "import timeit\n",
        "\n",
        "# See https://www.tensorflow.org/tutorials/using_gpu#allowing_gpu_memory_growth\n",
        "config = tf.ConfigProto()\n",
        "config.gpu_options.allow_growth = True\n",
        "\n",
        "with tf.device('/cpu:0'):\n",
        "  random_image_cpu = tf.random_normal((100, 100, 100, 3))\n",
        "  net_cpu = tf.layers.conv2d(random_image_cpu, 32, 7)\n",
        "  net_cpu = tf.reduce_sum(net_cpu)\n",
        "\n",
        "with tf.device('/gpu:0'):\n",
        "  random_image_gpu = tf.random_normal((100, 100, 100, 3))\n",
        "  net_gpu = tf.layers.conv2d(random_image_gpu, 32, 7)\n",
        "  net_gpu = tf.reduce_sum(net_gpu)\n",
        "\n",
        "sess = tf.Session(config=config)\n",
        "\n",
        "# Test execution once to detect errors early.\n",
        "try:\n",
        "  sess.run(tf.global_variables_initializer())\n",
        "except tf.errors.InvalidArgumentError:\n",
        "  print(\n",
        "      '\\n\\nThis error most likely means that this notebook is not '\n",
        "      'configured to use a GPU.  Change this in Notebook Settings via the '\n",
        "      'command palette (cmd/ctrl-shift-P) or the Edit menu.\\n\\n')\n",
        "  raise\n",
        "\n",
        "def cpu():\n",
        "  sess.run(net_cpu)\n",
        "  \n",
        "def gpu():\n",
        "  sess.run(net_gpu)\n",
        "  \n",
        "# Runs the op several times.\n",
        "print('Time (s) to convolve 32x7x7x3 filter over random 100x100x100x3 images '\n",
        "      '(batch x height x width x channel). Sum of ten runs.')\n",
        "print('CPU (s):')\n",
        "cpu_time = timeit.timeit('cpu()', number=10, setup=\"from __main__ import cpu\")\n",
        "print(cpu_time)\n",
        "print('GPU (s):')\n",
        "gpu_time = timeit.timeit('gpu()', number=10, setup=\"from __main__ import gpu\")\n",
        "print(gpu_time)\n",
        "print('GPU speedup over CPU: {}x'.format(int(cpu_time/gpu_time)))\n",
        "\n",
        "sess.close()"
      ],
      "execution_count": 0,
      "outputs": [
        {
          "output_type": "stream",
          "text": [
            "Time (s) to convolve 32x7x7x3 filter over random 100x100x100x3 images (batch x height x width x channel). Sum of ten runs.\n",
            "CPU (s):\n",
            "9.48913026899936\n",
            "GPU (s):\n",
            "0.22974575799889863\n",
            "GPU speedup over CPU: 41x\n"
          ],
          "name": "stdout"
        }
      ]
    },
    {
      "metadata": {
        "id": "GO3sqkl_OSPj",
        "colab_type": "code",
        "colab": {}
      },
      "cell_type": "code",
      "source": [
        "import tarfile"
      ],
      "execution_count": 0,
      "outputs": []
    },
    {
      "metadata": {
        "id": "ImN5tYJgPGHJ",
        "colab_type": "code",
        "colab": {}
      },
      "cell_type": "code",
      "source": [
        "tar = tarfile.open(\"object-classification-dataset.tar\")"
      ],
      "execution_count": 0,
      "outputs": []
    },
    {
      "metadata": {
        "id": "CRui2MLLPIGm",
        "colab_type": "code",
        "colab": {}
      },
      "cell_type": "code",
      "source": [
        "tar.extractall()"
      ],
      "execution_count": 0,
      "outputs": []
    },
    {
      "metadata": {
        "id": "l-utfnsbPIYp",
        "colab_type": "code",
        "colab": {}
      },
      "cell_type": "code",
      "source": [
        "tar.close()"
      ],
      "execution_count": 0,
      "outputs": []
    },
    {
      "metadata": {
        "id": "PM97xo3HbhVQ",
        "colab_type": "code",
        "colab": {}
      },
      "cell_type": "code",
      "source": [
        "import pandas as pd\n",
        "import numpy as np\n",
        "import os\n",
        "import keras\n",
        "import matplotlib.pyplot as plt\n",
        "from keras.applications.xception import Xception\n",
        "from keras.applications.resnet50 import ResNet50\n",
        "from keras.applications.mobilenet import MobileNet\n",
        "from keras.layers import Dense,GlobalAveragePooling2D\n",
        "from keras.preprocessing import image\n",
        "from keras.preprocessing.image import ImageDataGenerator\n",
        "from keras.models import Model\n",
        "from keras.optimizers import Adam"
      ],
      "execution_count": 0,
      "outputs": []
    },
    {
      "metadata": {
        "id": "qz24FNC8bj0j",
        "colab_type": "code",
        "colab": {}
      },
      "cell_type": "code",
      "source": [
        "def model_Xception(img_shape=(299, 299, 3), n_classes=50,\n",
        "                   load_pretrained=False, freeze_layers_from='base_model'):\n",
        "    # Decide if load pretrained weights from imagenet\n",
        "    if load_pretrained:\n",
        "        weights = 'imagenet'\n",
        "    else:\n",
        "        weights = None\n",
        "\n",
        "    # Get base model\n",
        "    #base_model = Xception(include_top=False, weights=weights,\n",
        "                       #input_tensor=None, input_shape=img_shape)\n",
        "    \n",
        "    #base_model = ResNet50(include_top=False, weights=weights,\n",
        "                       #input_tensor=None, input_shape=img_shape)\n",
        "    \n",
        "    base_model = MobileNet(include_top=False, weights=weights,\n",
        "                       input_tensor=None, input_shape=img_shape)\n",
        "\n",
        "    # Add final layers\n",
        "    x = base_model.output\n",
        "    x = Dense(n_classes, activation='relu')(x)\n",
        "    x = GlobalAveragePooling2D()(x)\n",
        "    predictions = Dense(n_classes, activation='softmax')(x)\n",
        "\n",
        "    # This is the model we will train\n",
        "    model = Model(input=base_model.input, output=predictions)\n",
        "    \n",
        "    # Model Summary\n",
        "    # print(model.summary())\n",
        "    \n",
        "    # # let's visualize layer names and layer indices to see how many layers/blocks to re-train\n",
        "    # # uncomment when choosing based_model_last_block_layer\n",
        "    # for i, layer in enumerate(model.layers):\n",
        "    #     print(i, layer.name)\n",
        "\n",
        "    # Freeze some layers\n",
        "    if freeze_layers_from is not None:\n",
        "        if freeze_layers_from == 'base_model':\n",
        "            print ('   Freezing base model layers')\n",
        "            for layer in base_model.layers:\n",
        "                layer.trainable = False\n",
        "        else:\n",
        "            for i, layer in enumerate(model.layers):\n",
        "                print(i, layer.name)\n",
        "            print ('   Freezing from layer 0 to ' + str(freeze_layers_from))\n",
        "            for layer in model.layers[:freeze_layers_from]:\n",
        "               layer.trainable = False\n",
        "            for layer in model.layers[freeze_layers_from:]:\n",
        "               layer.trainable = True\n",
        "\n",
        "    print(model.summary())\n",
        "    return model"
      ],
      "execution_count": 0,
      "outputs": []
    },
    {
      "metadata": {
        "id": "Tw4LCO5CbnBS",
        "colab_type": "code",
        "colab": {}
      },
      "cell_type": "code",
      "source": [
        "def train_Xception(train_set_path, val_set_path, validation_split = 0.2,\n",
        "                   batch_size = 32, class_mode = 'categorical', horizontal_flip = False,\n",
        "                   vertical_flip = False, rotation_range = None, target_size = (299, 299),\n",
        "                   model = None, epochs = 1):\n",
        "    \n",
        "    # Load Image Data Set Using Keras\n",
        "    train_datagen = ImageDataGenerator(rescale = 1./255,\n",
        "                                   shear_range = 0.2,\n",
        "                                   zoom_range = 0.2,\n",
        "                                   horizontal_flip = horizontal_flip,\n",
        "                                   vertical_flip = vertical_flip,\n",
        "                                   rotation_range=rotation_range,\n",
        "                                   validation_split=validation_split)\n",
        "    \n",
        "    training_set = train_datagen.flow_from_directory(train_set_path,\n",
        "                                                 target_size = target_size,\n",
        "                                                 batch_size = batch_size,\n",
        "                                                 class_mode = class_mode,\n",
        "                                                 subset = 'training')\n",
        "    \n",
        "    validation_set = train_datagen.flow_from_directory(val_set_path,\n",
        "                                                 target_size = target_size,\n",
        "                                                 batch_size = batch_size,\n",
        "                                                 class_mode = class_mode,\n",
        "                                                 subset = 'validation')\n",
        "    \n",
        "    #model.evaluate(training_set)\n",
        "    #model.evaluate(validation_set)\n",
        "    \n",
        "    # Compile Model\n",
        "    learning_rate = 0.0001\n",
        "    loss = 'categorical_crossentropy'\n",
        "    # opt_rms = keras.optimizers.rmsprop(lr=learning_rate,decay=1e-6)\n",
        "    adam_optimizer = Adam(lr = learning_rate)\n",
        "    model.compile(optimizer = adam_optimizer, loss = loss, metrics = ['accuracy'])\n",
        "    \n",
        "    model.fit_generator(training_set,\n",
        "                        steps_per_epoch = training_set.samples,\n",
        "                        epochs = epochs,\n",
        "                        validation_data = validation_set,\n",
        "                        validation_steps = validation_set.samples)\n",
        "    \n",
        "    #model.evaluate(training_set)\n",
        "    #model.evaluate(validation_set)\n",
        "    \n",
        "    print(model.evaluate_generator(training_set, 49))\n",
        "\n",
        "    print(model.evaluate_generator(validation_set, 49))\n",
        "    \n",
        "    return model"
      ],
      "execution_count": 0,
      "outputs": []
    },
    {
      "metadata": {
        "id": "iYffUFt4br42",
        "colab_type": "code",
        "colab": {}
      },
      "cell_type": "code",
      "source": [
        "# Declare Constants\n",
        "img_shape = (128, 128, 3)\n",
        "target_size = (128, 128)\n",
        "n_classes = 49\n",
        "epochs = 3\n",
        "train_set_path = '101_ObjectCategories' #'dataset2/training_set_test'\n",
        "val_set_path = train_set_path\n",
        "validation_split = 0.15\n",
        "batch_size = 64\n",
        "horizontal_flip = True\n",
        "rotation_range = None\n",
        "learning_rate = 0.0001\n",
        "loss = 'categorical_crossentropy'"
      ],
      "execution_count": 0,
      "outputs": []
    },
    {
      "metadata": {
        "id": "uHSN8z05b3__",
        "colab_type": "code",
        "outputId": "5a799e04-3273-420e-8e60-4dd75e9fbb09",
        "colab": {
          "base_uri": "https://localhost:8080/",
          "height": 3415
        }
      },
      "cell_type": "code",
      "source": [
        "# Build Model\n",
        "model = model_Xception(img_shape = img_shape,  n_classes = n_classes, load_pretrained = True)"
      ],
      "execution_count": 0,
      "outputs": [
        {
          "output_type": "stream",
          "text": [
            "   Freezing base model layers\n",
            "_________________________________________________________________\n",
            "Layer (type)                 Output Shape              Param #   \n",
            "=================================================================\n",
            "input_2 (InputLayer)         (None, 128, 128, 3)       0         \n",
            "_________________________________________________________________\n",
            "conv1_pad (ZeroPadding2D)    (None, 129, 129, 3)       0         \n",
            "_________________________________________________________________\n",
            "conv1 (Conv2D)               (None, 64, 64, 32)        864       \n",
            "_________________________________________________________________\n",
            "conv1_bn (BatchNormalization (None, 64, 64, 32)        128       \n",
            "_________________________________________________________________\n",
            "conv1_relu (ReLU)            (None, 64, 64, 32)        0         \n",
            "_________________________________________________________________\n",
            "conv_dw_1 (DepthwiseConv2D)  (None, 64, 64, 32)        288       \n",
            "_________________________________________________________________\n",
            "conv_dw_1_bn (BatchNormaliza (None, 64, 64, 32)        128       \n",
            "_________________________________________________________________\n",
            "conv_dw_1_relu (ReLU)        (None, 64, 64, 32)        0         \n",
            "_________________________________________________________________\n",
            "conv_pw_1 (Conv2D)           (None, 64, 64, 64)        2048      \n",
            "_________________________________________________________________\n",
            "conv_pw_1_bn (BatchNormaliza (None, 64, 64, 64)        256       \n",
            "_________________________________________________________________\n",
            "conv_pw_1_relu (ReLU)        (None, 64, 64, 64)        0         \n",
            "_________________________________________________________________\n",
            "conv_pad_2 (ZeroPadding2D)   (None, 65, 65, 64)        0         \n",
            "_________________________________________________________________\n",
            "conv_dw_2 (DepthwiseConv2D)  (None, 32, 32, 64)        576       \n",
            "_________________________________________________________________\n",
            "conv_dw_2_bn (BatchNormaliza (None, 32, 32, 64)        256       \n",
            "_________________________________________________________________\n",
            "conv_dw_2_relu (ReLU)        (None, 32, 32, 64)        0         \n",
            "_________________________________________________________________\n",
            "conv_pw_2 (Conv2D)           (None, 32, 32, 128)       8192      \n",
            "_________________________________________________________________\n",
            "conv_pw_2_bn (BatchNormaliza (None, 32, 32, 128)       512       \n",
            "_________________________________________________________________\n",
            "conv_pw_2_relu (ReLU)        (None, 32, 32, 128)       0         \n",
            "_________________________________________________________________\n",
            "conv_dw_3 (DepthwiseConv2D)  (None, 32, 32, 128)       1152      \n",
            "_________________________________________________________________\n",
            "conv_dw_3_bn (BatchNormaliza (None, 32, 32, 128)       512       \n",
            "_________________________________________________________________\n",
            "conv_dw_3_relu (ReLU)        (None, 32, 32, 128)       0         \n",
            "_________________________________________________________________\n",
            "conv_pw_3 (Conv2D)           (None, 32, 32, 128)       16384     \n",
            "_________________________________________________________________\n",
            "conv_pw_3_bn (BatchNormaliza (None, 32, 32, 128)       512       \n",
            "_________________________________________________________________\n",
            "conv_pw_3_relu (ReLU)        (None, 32, 32, 128)       0         \n",
            "_________________________________________________________________\n",
            "conv_pad_4 (ZeroPadding2D)   (None, 33, 33, 128)       0         \n",
            "_________________________________________________________________\n",
            "conv_dw_4 (DepthwiseConv2D)  (None, 16, 16, 128)       1152      \n",
            "_________________________________________________________________\n",
            "conv_dw_4_bn (BatchNormaliza (None, 16, 16, 128)       512       \n",
            "_________________________________________________________________\n",
            "conv_dw_4_relu (ReLU)        (None, 16, 16, 128)       0         \n",
            "_________________________________________________________________\n",
            "conv_pw_4 (Conv2D)           (None, 16, 16, 256)       32768     \n",
            "_________________________________________________________________\n",
            "conv_pw_4_bn (BatchNormaliza (None, 16, 16, 256)       1024      \n",
            "_________________________________________________________________\n",
            "conv_pw_4_relu (ReLU)        (None, 16, 16, 256)       0         \n",
            "_________________________________________________________________\n",
            "conv_dw_5 (DepthwiseConv2D)  (None, 16, 16, 256)       2304      \n",
            "_________________________________________________________________\n",
            "conv_dw_5_bn (BatchNormaliza (None, 16, 16, 256)       1024      \n",
            "_________________________________________________________________\n",
            "conv_dw_5_relu (ReLU)        (None, 16, 16, 256)       0         \n",
            "_________________________________________________________________\n",
            "conv_pw_5 (Conv2D)           (None, 16, 16, 256)       65536     \n",
            "_________________________________________________________________\n",
            "conv_pw_5_bn (BatchNormaliza (None, 16, 16, 256)       1024      \n",
            "_________________________________________________________________\n",
            "conv_pw_5_relu (ReLU)        (None, 16, 16, 256)       0         \n",
            "_________________________________________________________________\n",
            "conv_pad_6 (ZeroPadding2D)   (None, 17, 17, 256)       0         \n",
            "_________________________________________________________________\n",
            "conv_dw_6 (DepthwiseConv2D)  (None, 8, 8, 256)         2304      \n",
            "_________________________________________________________________\n",
            "conv_dw_6_bn (BatchNormaliza (None, 8, 8, 256)         1024      \n",
            "_________________________________________________________________\n",
            "conv_dw_6_relu (ReLU)        (None, 8, 8, 256)         0         \n",
            "_________________________________________________________________\n",
            "conv_pw_6 (Conv2D)           (None, 8, 8, 512)         131072    \n",
            "_________________________________________________________________\n",
            "conv_pw_6_bn (BatchNormaliza (None, 8, 8, 512)         2048      \n",
            "_________________________________________________________________\n",
            "conv_pw_6_relu (ReLU)        (None, 8, 8, 512)         0         \n",
            "_________________________________________________________________\n",
            "conv_dw_7 (DepthwiseConv2D)  (None, 8, 8, 512)         4608      \n",
            "_________________________________________________________________\n",
            "conv_dw_7_bn (BatchNormaliza (None, 8, 8, 512)         2048      \n",
            "_________________________________________________________________\n",
            "conv_dw_7_relu (ReLU)        (None, 8, 8, 512)         0         \n",
            "_________________________________________________________________\n",
            "conv_pw_7 (Conv2D)           (None, 8, 8, 512)         262144    \n",
            "_________________________________________________________________\n",
            "conv_pw_7_bn (BatchNormaliza (None, 8, 8, 512)         2048      \n",
            "_________________________________________________________________\n",
            "conv_pw_7_relu (ReLU)        (None, 8, 8, 512)         0         \n",
            "_________________________________________________________________\n",
            "conv_dw_8 (DepthwiseConv2D)  (None, 8, 8, 512)         4608      \n",
            "_________________________________________________________________\n",
            "conv_dw_8_bn (BatchNormaliza (None, 8, 8, 512)         2048      \n",
            "_________________________________________________________________\n",
            "conv_dw_8_relu (ReLU)        (None, 8, 8, 512)         0         \n",
            "_________________________________________________________________\n",
            "conv_pw_8 (Conv2D)           (None, 8, 8, 512)         262144    \n",
            "_________________________________________________________________\n",
            "conv_pw_8_bn (BatchNormaliza (None, 8, 8, 512)         2048      \n",
            "_________________________________________________________________\n",
            "conv_pw_8_relu (ReLU)        (None, 8, 8, 512)         0         \n",
            "_________________________________________________________________\n",
            "conv_dw_9 (DepthwiseConv2D)  (None, 8, 8, 512)         4608      \n",
            "_________________________________________________________________\n",
            "conv_dw_9_bn (BatchNormaliza (None, 8, 8, 512)         2048      \n",
            "_________________________________________________________________\n",
            "conv_dw_9_relu (ReLU)        (None, 8, 8, 512)         0         \n",
            "_________________________________________________________________\n",
            "conv_pw_9 (Conv2D)           (None, 8, 8, 512)         262144    \n",
            "_________________________________________________________________\n",
            "conv_pw_9_bn (BatchNormaliza (None, 8, 8, 512)         2048      \n",
            "_________________________________________________________________\n",
            "conv_pw_9_relu (ReLU)        (None, 8, 8, 512)         0         \n",
            "_________________________________________________________________\n",
            "conv_dw_10 (DepthwiseConv2D) (None, 8, 8, 512)         4608      \n",
            "_________________________________________________________________\n",
            "conv_dw_10_bn (BatchNormaliz (None, 8, 8, 512)         2048      \n",
            "_________________________________________________________________\n",
            "conv_dw_10_relu (ReLU)       (None, 8, 8, 512)         0         \n",
            "_________________________________________________________________\n",
            "conv_pw_10 (Conv2D)          (None, 8, 8, 512)         262144    \n",
            "_________________________________________________________________\n",
            "conv_pw_10_bn (BatchNormaliz (None, 8, 8, 512)         2048      \n",
            "_________________________________________________________________\n",
            "conv_pw_10_relu (ReLU)       (None, 8, 8, 512)         0         \n",
            "_________________________________________________________________\n",
            "conv_dw_11 (DepthwiseConv2D) (None, 8, 8, 512)         4608      \n",
            "_________________________________________________________________\n",
            "conv_dw_11_bn (BatchNormaliz (None, 8, 8, 512)         2048      \n",
            "_________________________________________________________________\n",
            "conv_dw_11_relu (ReLU)       (None, 8, 8, 512)         0         \n",
            "_________________________________________________________________\n",
            "conv_pw_11 (Conv2D)          (None, 8, 8, 512)         262144    \n",
            "_________________________________________________________________\n",
            "conv_pw_11_bn (BatchNormaliz (None, 8, 8, 512)         2048      \n",
            "_________________________________________________________________\n",
            "conv_pw_11_relu (ReLU)       (None, 8, 8, 512)         0         \n",
            "_________________________________________________________________\n",
            "conv_pad_12 (ZeroPadding2D)  (None, 9, 9, 512)         0         \n",
            "_________________________________________________________________\n",
            "conv_dw_12 (DepthwiseConv2D) (None, 4, 4, 512)         4608      \n",
            "_________________________________________________________________\n",
            "conv_dw_12_bn (BatchNormaliz (None, 4, 4, 512)         2048      \n",
            "_________________________________________________________________\n",
            "conv_dw_12_relu (ReLU)       (None, 4, 4, 512)         0         \n",
            "_________________________________________________________________\n",
            "conv_pw_12 (Conv2D)          (None, 4, 4, 1024)        524288    \n",
            "_________________________________________________________________\n",
            "conv_pw_12_bn (BatchNormaliz (None, 4, 4, 1024)        4096      \n",
            "_________________________________________________________________\n",
            "conv_pw_12_relu (ReLU)       (None, 4, 4, 1024)        0         \n",
            "_________________________________________________________________\n",
            "conv_dw_13 (DepthwiseConv2D) (None, 4, 4, 1024)        9216      \n",
            "_________________________________________________________________\n",
            "conv_dw_13_bn (BatchNormaliz (None, 4, 4, 1024)        4096      \n",
            "_________________________________________________________________\n",
            "conv_dw_13_relu (ReLU)       (None, 4, 4, 1024)        0         \n",
            "_________________________________________________________________\n",
            "conv_pw_13 (Conv2D)          (None, 4, 4, 1024)        1048576   \n",
            "_________________________________________________________________\n",
            "conv_pw_13_bn (BatchNormaliz (None, 4, 4, 1024)        4096      \n",
            "_________________________________________________________________\n",
            "conv_pw_13_relu (ReLU)       (None, 4, 4, 1024)        0         \n",
            "_________________________________________________________________\n",
            "dense_3 (Dense)              (None, 4, 4, 49)          50225     \n",
            "_________________________________________________________________\n",
            "global_average_pooling2d_2 ( (None, 49)                0         \n",
            "_________________________________________________________________\n",
            "dense_4 (Dense)              (None, 49)                2450      \n",
            "=================================================================\n",
            "Total params: 3,281,539\n",
            "Trainable params: 52,675\n",
            "Non-trainable params: 3,228,864\n",
            "_________________________________________________________________\n",
            "None\n"
          ],
          "name": "stdout"
        },
        {
          "output_type": "stream",
          "text": [
            "/usr/local/lib/python3.6/dist-packages/ipykernel_launcher.py:26: UserWarning: Update your `Model` call to the Keras 2 API: `Model(inputs=Tensor(\"in..., outputs=Tensor(\"de...)`\n"
          ],
          "name": "stderr"
        }
      ]
    },
    {
      "metadata": {
        "id": "sT58uExSb7_Q",
        "colab_type": "code",
        "outputId": "f5c15a9a-5120-4ec9-e4a0-903c85449bc6",
        "colab": {
          "base_uri": "https://localhost:8080/",
          "height": 391
        }
      },
      "cell_type": "code",
      "source": [
        "model = train_Xception(train_set_path = train_set_path, val_set_path = val_set_path, validation_split = validation_split,\n",
        "                       batch_size = batch_size, horizontal_flip = horizontal_flip, rotation_range = rotation_range,\n",
        "                       model = model, epochs = epochs, target_size = target_size)"
      ],
      "execution_count": 0,
      "outputs": [
        {
          "output_type": "stream",
          "text": [
            "Found 4584 images belonging to 49 classes.\n",
            "Found 782 images belonging to 49 classes.\n",
            "Epoch 1/10\n",
            "4584/4584 [==============================] - 577s 126ms/step - loss: 0.7539 - acc: 0.8199 - val_loss: 0.3317 - val_acc: 0.8983\n",
            "Epoch 2/10\n",
            "4584/4584 [==============================] - 579s 126ms/step - loss: 0.1453 - acc: 0.9640 - val_loss: 0.3118 - val_acc: 0.9010\n",
            "Epoch 3/10\n",
            "4584/4584 [==============================] - 580s 127ms/step - loss: 0.0815 - acc: 0.9799 - val_loss: 0.2787 - val_acc: 0.9092\n",
            "Epoch 4/10\n",
            "4584/4584 [==============================] - 577s 126ms/step - loss: 0.0574 - acc: 0.9856 - val_loss: 0.2587 - val_acc: 0.9191\n",
            "Epoch 5/10\n",
            "4584/4584 [==============================] - 582s 127ms/step - loss: 0.0442 - acc: 0.9891 - val_loss: 0.2446 - val_acc: 0.9248\n",
            "Epoch 6/10\n",
            "4584/4584 [==============================] - 578s 126ms/step - loss: 0.0360 - acc: 0.9907 - val_loss: 0.2824 - val_acc: 0.9129\n",
            "Epoch 7/10\n",
            "4584/4584 [==============================] - 572s 125ms/step - loss: 0.0298 - acc: 0.9925 - val_loss: 0.2654 - val_acc: 0.9177\n",
            "Epoch 8/10\n",
            "4584/4584 [==============================] - 563s 123ms/step - loss: 0.0263 - acc: 0.9932 - val_loss: 0.2773 - val_acc: 0.9158\n",
            "Epoch 9/10\n",
            "4584/4584 [==============================] - 559s 122ms/step - loss: 0.0239 - acc: 0.9937 - val_loss: 0.3491 - val_acc: 0.8985\n",
            "Epoch 10/10\n",
            "4584/4584 [==============================] - 553s 121ms/step - loss: 0.0218 - acc: 0.9944 - val_loss: 0.2550 - val_acc: 0.9272\n"
          ],
          "name": "stdout"
        }
      ]
    },
    {
      "metadata": {
        "id": "QDjWYQ69k2U-",
        "colab_type": "code",
        "colab": {}
      },
      "cell_type": "code",
      "source": [
        "model.save_weights('obj_recognition_xception_normal_bt16_ep10.h5')"
      ],
      "execution_count": 0,
      "outputs": []
    },
    {
      "metadata": {
        "id": "URhAKBgSXVlA",
        "colab_type": "code",
        "outputId": "9e630cad-be98-4a23-e4c6-322ea551bcef",
        "colab": {
          "base_uri": "https://localhost:8080/",
          "height": 481
        }
      },
      "cell_type": "code",
      "source": [
        "model = train_Xception(train_set_path = train_set_path, val_set_path = val_set_path, validation_split = validation_split,\n",
        "                       batch_size = batch_size, horizontal_flip = horizontal_flip, rotation_range = rotation_range,\n",
        "                       model = model, epochs = epochs, target_size = target_size)"
      ],
      "execution_count": 0,
      "outputs": [
        {
          "output_type": "stream",
          "text": [
            "Found 4850 images belonging to 49 classes.\n",
            "Found 516 images belonging to 49 classes.\n",
            "WARNING:tensorflow:From /usr/local/lib/python3.6/dist-packages/tensorflow/python/ops/math_ops.py:3066: to_int32 (from tensorflow.python.ops.math_ops) is deprecated and will be removed in a future version.\n",
            "Instructions for updating:\n",
            "Use tf.cast instead.\n",
            "Epoch 1/10\n",
            "4850/4850 [==============================] - 977s 201ms/step - loss: 0.5295 - acc: 0.8756 - val_loss: 0.3464 - val_acc: 0.8935\n",
            "Epoch 2/10\n",
            "4850/4850 [==============================] - 977s 201ms/step - loss: 0.0668 - acc: 0.9858 - val_loss: 0.3013 - val_acc: 0.9066\n",
            "Epoch 3/10\n",
            "4850/4850 [==============================] - 968s 200ms/step - loss: 0.0325 - acc: 0.9936 - val_loss: 0.3336 - val_acc: 0.8991\n",
            "Epoch 4/10\n",
            "4850/4850 [==============================] - 955s 197ms/step - loss: 0.0203 - acc: 0.9960 - val_loss: 0.3026 - val_acc: 0.9078\n",
            "Epoch 5/10\n",
            "4850/4850 [==============================] - 942s 194ms/step - loss: 0.0150 - acc: 0.9970 - val_loss: 0.3152 - val_acc: 0.9072\n",
            "Epoch 6/10\n",
            "4850/4850 [==============================] - 954s 197ms/step - loss: 0.0119 - acc: 0.9975 - val_loss: 0.2990 - val_acc: 0.9158\n",
            "Epoch 7/10\n",
            "4850/4850 [==============================] - 951s 196ms/step - loss: 0.0103 - acc: 0.9975 - val_loss: 0.3232 - val_acc: 0.9104\n",
            "Epoch 8/10\n",
            "4850/4850 [==============================] - 956s 197ms/step - loss: 0.0089 - acc: 0.9980 - val_loss: 0.3370 - val_acc: 0.9084\n",
            "Epoch 9/10\n",
            "4850/4850 [==============================] - 963s 198ms/step - loss: 0.0077 - acc: 0.9982 - val_loss: 0.3758 - val_acc: 0.9057\n",
            "Epoch 10/10\n",
            "4850/4850 [==============================] - 952s 196ms/step - loss: 0.0073 - acc: 0.9983 - val_loss: 0.4127 - val_acc: 0.8991\n"
          ],
          "name": "stdout"
        }
      ]
    },
    {
      "metadata": {
        "id": "nRbOAiGYpoG9",
        "colab_type": "code",
        "colab": {
          "base_uri": "https://localhost:8080/",
          "height": 887
        },
        "outputId": "a42de97a-f702-448e-e411-538b4e517891"
      },
      "cell_type": "code",
      "source": [
        "model = train_Xception(train_set_path = train_set_path, val_set_path = val_set_path, validation_split = validation_split,\n",
        "                       batch_size = batch_size, horizontal_flip = horizontal_flip, rotation_range = rotation_range,\n",
        "                       model = model, epochs = epochs, target_size = target_size)"
      ],
      "execution_count": 15,
      "outputs": [
        {
          "output_type": "stream",
          "text": [
            "Found 4584 images belonging to 49 classes.\n",
            "Found 782 images belonging to 49 classes.\n",
            "WARNING:tensorflow:From /usr/local/lib/python3.6/dist-packages/tensorflow/python/ops/math_ops.py:3066: to_int32 (from tensorflow.python.ops.math_ops) is deprecated and will be removed in a future version.\n",
            "Instructions for updating:\n",
            "Use tf.cast instead.\n",
            "Epoch 1/10\n",
            "4446/4584 [============================>.] - ETA: 14s - loss: 0.3733 - acc: 0.9045Found 4584 images belonging to 49 classes.\n",
            "Found 782 images belonging to 49 classes.\n",
            "WARNING:tensorflow:From /usr/local/lib/python3.6/dist-packages/tensorflow/python/ops/math_ops.py:3066: to_int32 (from tensorflow.python.ops.math_ops) is deprecated and will be removed in a future version.\n",
            "Instructions for updating:\n",
            "Use tf.cast instead.\n",
            "Epoch 1/10\n",
            "4584/4584 [==============================] - 539s 118ms/step - loss: 0.3651 - acc: 0.9066 - val_loss: 0.3101 - val_acc: 0.9080\n",
            "4584/4584 [==============================] - 539s 118ms/step - loss: 0.3651 - acc: 0.9066 - val_loss: 0.3101 - val_acc: 0.9080\n",
            "Epoch 2/10\n",
            "   1/4584 [..............................] - ETA: 2:16 - loss: 0.0702 - acc: 1.0000Epoch 2/10\n",
            "4584/4584 [==============================] - 535s 117ms/step - loss: 0.0641 - acc: 0.9822 - val_loss: 0.2698 - val_acc: 0.9251\n",
            "4584/4584 [==============================] - 535s 117ms/step - loss: 0.0641 - acc: 0.9822 - val_loss: 0.2698 - val_acc: 0.9251\n",
            "Epoch 3/10\n",
            "   1/4584 [..............................] - ETA: 1:53 - loss: 0.0090 - acc: 1.0000Epoch 3/10\n",
            "4584/4584 [==============================] - 533s 116ms/step - loss: 0.0422 - acc: 0.9875 - val_loss: 0.3375 - val_acc: 0.9080\n",
            "4584/4584 [==============================] - 533s 116ms/step - loss: 0.0422 - acc: 0.9875 - val_loss: 0.3375 - val_acc: 0.9080\n",
            "Epoch 4/10\n",
            "   1/4584 [..............................] - ETA: 2:08 - loss: 0.0064 - acc: 1.0000Epoch 4/10\n",
            "4584/4584 [==============================] - 534s 116ms/step - loss: 0.0322 - acc: 0.9905 - val_loss: 0.2718 - val_acc: 0.9238\n",
            "4584/4584 [==============================] - 534s 116ms/step - loss: 0.0322 - acc: 0.9905 - val_loss: 0.2718 - val_acc: 0.9238\n",
            "Epoch 5/10\n",
            "   1/4584 [..............................] - ETA: 1:53 - loss: 0.0541 - acc: 0.9375Epoch 5/10\n",
            "4584/4584 [==============================] - 533s 116ms/step - loss: 0.0274 - acc: 0.9915 - val_loss: 0.2710 - val_acc: 0.9234\n",
            "4584/4584 [==============================] - 533s 116ms/step - loss: 0.0274 - acc: 0.9915 - val_loss: 0.2710 - val_acc: 0.9234\n",
            "Epoch 6/10\n",
            "   1/4584 [..............................] - ETA: 2:22 - loss: 9.0667e-04 - acc: 1.0000Epoch 6/10\n",
            "4584/4584 [==============================] - 535s 117ms/step - loss: 0.0232 - acc: 0.9926 - val_loss: 0.2896 - val_acc: 0.9230\n",
            "4584/4584 [==============================] - 535s 117ms/step - loss: 0.0232 - acc: 0.9926 - val_loss: 0.2896 - val_acc: 0.9230\n",
            "Epoch 7/10\n",
            "   1/4584 [..............................] - ETA: 2:19 - loss: 0.0129 - acc: 1.0000Epoch 7/10\n",
            "4584/4584 [==============================] - 532s 116ms/step - loss: 0.0209 - acc: 0.9932 - val_loss: 0.2962 - val_acc: 0.9258\n",
            "4584/4584 [==============================] - 532s 116ms/step - loss: 0.0209 - acc: 0.9932 - val_loss: 0.2962 - val_acc: 0.9258\n",
            "Epoch 8/10\n",
            "   1/4584 [..............................] - ETA: 2:27 - loss: 2.3795e-04 - acc: 1.0000Epoch 8/10\n",
            "4584/4584 [==============================] - 531s 116ms/step - loss: 0.0195 - acc: 0.9940 - val_loss: 0.3104 - val_acc: 0.9220\n",
            "4584/4584 [==============================] - 531s 116ms/step - loss: 0.0195 - acc: 0.9940 - val_loss: 0.3104 - val_acc: 0.9220\n",
            "Epoch 9/10\n",
            "   1/4584 [..............................] - ETA: 2:40 - loss: 1.2537e-04 - acc: 1.0000Epoch 9/10\n",
            "4584/4584 [==============================] - 532s 116ms/step - loss: 0.0173 - acc: 0.9945 - val_loss: 0.3059 - val_acc: 0.9221\n",
            "4584/4584 [==============================] - 532s 116ms/step - loss: 0.0173 - acc: 0.9945 - val_loss: 0.3059 - val_acc: 0.9221\n",
            "Epoch 10/10\n",
            "   1/4584 [..............................] - ETA: 2:48 - loss: 0.0059 - acc: 1.0000Epoch 10/10\n",
            "4584/4584 [==============================] - 560s 122ms/step - loss: 0.0173 - acc: 0.9946 - val_loss: 0.3735 - val_acc: 0.9110\n",
            "4584/4584 [==============================] - 560s 122ms/step - loss: 0.0173 - acc: 0.9946 - val_loss: 0.3735 - val_acc: 0.9110\n"
          ],
          "name": "stdout"
        }
      ]
    },
    {
      "metadata": {
        "id": "0kUC7WduPhu6",
        "colab_type": "code",
        "colab": {}
      },
      "cell_type": "code",
      "source": [
        "model.save_weights('obj_recognition_mobilenet_00001_015_bt64_ep3.h5')"
      ],
      "execution_count": 0,
      "outputs": []
    },
    {
      "metadata": {
        "id": "NbP7Bw4zwoe8",
        "colab_type": "code",
        "colab": {}
      },
      "cell_type": "code",
      "source": [
        "model.save('mobilenet_00001_015_bt64_ep3_model02.h5')"
      ],
      "execution_count": 0,
      "outputs": []
    },
    {
      "metadata": {
        "id": "caTGO3eF1dCY",
        "colab_type": "code",
        "colab": {}
      },
      "cell_type": "code",
      "source": [
        "model.load_weights('obj_recognition_mobilenet_00001_015_bt64_ep3.h5')"
      ],
      "execution_count": 0,
      "outputs": []
    },
    {
      "metadata": {
        "id": "WfFrwS-twsp0",
        "colab_type": "code",
        "colab": {}
      },
      "cell_type": "code",
      "source": [
        "json_string = model.to_json()"
      ],
      "execution_count": 0,
      "outputs": []
    },
    {
      "metadata": {
        "id": "qz4hlq2Ow6F8",
        "colab_type": "code",
        "colab": {
          "base_uri": "https://localhost:8080/",
          "height": 54
        },
        "outputId": "83dd0a3e-f6d8-4c70-84c2-85ec0ce737fa"
      },
      "cell_type": "code",
      "source": [
        "json_string"
      ],
      "execution_count": 77,
      "outputs": [
        {
          "output_type": "execute_result",
          "data": {
            "text/plain": [
              "'{\"class_name\": \"Model\", \"config\": {\"name\": \"model_1\", \"layers\": [{\"name\": \"input_1\", \"class_name\": \"InputLayer\", \"config\": {\"batch_input_shape\": [null, 128, 128, 3], \"dtype\": \"float32\", \"sparse\": false, \"name\": \"input_1\"}, \"inbound_nodes\": []}, {\"name\": \"conv1_pad\", \"class_name\": \"ZeroPadding2D\", \"config\": {\"name\": \"conv1_pad\", \"trainable\": false, \"padding\": [[0, 1], [0, 1]], \"data_format\": \"channels_last\"}, \"inbound_nodes\": [[[\"input_1\", 0, 0, {}]]]}, {\"name\": \"conv1\", \"class_name\": \"Conv2D\", \"config\": {\"name\": \"conv1\", \"trainable\": false, \"filters\": 32, \"kernel_size\": [3, 3], \"strides\": [2, 2], \"padding\": \"valid\", \"data_format\": \"channels_last\", \"dilation_rate\": [1, 1], \"activation\": \"linear\", \"use_bias\": false, \"kernel_initializer\": {\"class_name\": \"VarianceScaling\", \"config\": {\"scale\": 1.0, \"mode\": \"fan_avg\", \"distribution\": \"uniform\", \"seed\": null}}, \"bias_initializer\": {\"class_name\": \"Zeros\", \"config\": {}}, \"kernel_regularizer\": null, \"bias_regularizer\": null, \"activity_regularizer\": null, \"kernel_constraint\": null, \"bias_constraint\": null}, \"inbound_nodes\": [[[\"conv1_pad\", 0, 0, {}]]]}, {\"name\": \"conv1_bn\", \"class_name\": \"BatchNormalization\", \"config\": {\"name\": \"conv1_bn\", \"trainable\": false, \"axis\": -1, \"momentum\": 0.99, \"epsilon\": 0.001, \"center\": true, \"scale\": true, \"beta_initializer\": {\"class_name\": \"Zeros\", \"config\": {}}, \"gamma_initializer\": {\"class_name\": \"Ones\", \"config\": {}}, \"moving_mean_initializer\": {\"class_name\": \"Zeros\", \"config\": {}}, \"moving_variance_initializer\": {\"class_name\": \"Ones\", \"config\": {}}, \"beta_regularizer\": null, \"gamma_regularizer\": null, \"beta_constraint\": null, \"gamma_constraint\": null}, \"inbound_nodes\": [[[\"conv1\", 0, 0, {}]]]}, {\"name\": \"conv1_relu\", \"class_name\": \"ReLU\", \"config\": {\"name\": \"conv1_relu\", \"trainable\": false, \"max_value\": 6.0, \"negative_slope\": 0.0, \"threshold\": 0.0}, \"inbound_nodes\": [[[\"conv1_bn\", 0, 0, {}]]]}, {\"name\": \"conv_dw_1\", \"class_name\": \"DepthwiseConv2D\", \"config\": {\"name\": \"conv_dw_1\", \"trainable\": false, \"kernel_size\": [3, 3], \"strides\": [1, 1], \"padding\": \"same\", \"data_format\": \"channels_last\", \"dilation_rate\": [1, 1], \"activation\": \"linear\", \"use_bias\": false, \"bias_initializer\": {\"class_name\": \"Zeros\", \"config\": {}}, \"bias_regularizer\": null, \"activity_regularizer\": null, \"bias_constraint\": null, \"depth_multiplier\": 1, \"depthwise_initializer\": {\"class_name\": \"VarianceScaling\", \"config\": {\"scale\": 1.0, \"mode\": \"fan_avg\", \"distribution\": \"uniform\", \"seed\": null}}, \"depthwise_regularizer\": null, \"depthwise_constraint\": null}, \"inbound_nodes\": [[[\"conv1_relu\", 0, 0, {}]]]}, {\"name\": \"conv_dw_1_bn\", \"class_name\": \"BatchNormalization\", \"config\": {\"name\": \"conv_dw_1_bn\", \"trainable\": false, \"axis\": -1, \"momentum\": 0.99, \"epsilon\": 0.001, \"center\": true, \"scale\": true, \"beta_initializer\": {\"class_name\": \"Zeros\", \"config\": {}}, \"gamma_initializer\": {\"class_name\": \"Ones\", \"config\": {}}, \"moving_mean_initializer\": {\"class_name\": \"Zeros\", \"config\": {}}, \"moving_variance_initializer\": {\"class_name\": \"Ones\", \"config\": {}}, \"beta_regularizer\": null, \"gamma_regularizer\": null, \"beta_constraint\": null, \"gamma_constraint\": null}, \"inbound_nodes\": [[[\"conv_dw_1\", 0, 0, {}]]]}, {\"name\": \"conv_dw_1_relu\", \"class_name\": \"ReLU\", \"config\": {\"name\": \"conv_dw_1_relu\", \"trainable\": false, \"max_value\": 6.0, \"negative_slope\": 0.0, \"threshold\": 0.0}, \"inbound_nodes\": [[[\"conv_dw_1_bn\", 0, 0, {}]]]}, {\"name\": \"conv_pw_1\", \"class_name\": \"Conv2D\", \"config\": {\"name\": \"conv_pw_1\", \"trainable\": false, \"filters\": 64, \"kernel_size\": [1, 1], \"strides\": [1, 1], \"padding\": \"same\", \"data_format\": \"channels_last\", \"dilation_rate\": [1, 1], \"activation\": \"linear\", \"use_bias\": false, \"kernel_initializer\": {\"class_name\": \"VarianceScaling\", \"config\": {\"scale\": 1.0, \"mode\": \"fan_avg\", \"distribution\": \"uniform\", \"seed\": null}}, \"bias_initializer\": {\"class_name\": \"Zeros\", \"config\": {}}, \"kernel_regularizer\": null, \"bias_regularizer\": null, \"activity_regularizer\": null, \"kernel_constraint\": null, \"bias_constraint\": null}, \"inbound_nodes\": [[[\"conv_dw_1_relu\", 0, 0, {}]]]}, {\"name\": \"conv_pw_1_bn\", \"class_name\": \"BatchNormalization\", \"config\": {\"name\": \"conv_pw_1_bn\", \"trainable\": false, \"axis\": -1, \"momentum\": 0.99, \"epsilon\": 0.001, \"center\": true, \"scale\": true, \"beta_initializer\": {\"class_name\": \"Zeros\", \"config\": {}}, \"gamma_initializer\": {\"class_name\": \"Ones\", \"config\": {}}, \"moving_mean_initializer\": {\"class_name\": \"Zeros\", \"config\": {}}, \"moving_variance_initializer\": {\"class_name\": \"Ones\", \"config\": {}}, \"beta_regularizer\": null, \"gamma_regularizer\": null, \"beta_constraint\": null, \"gamma_constraint\": null}, \"inbound_nodes\": [[[\"conv_pw_1\", 0, 0, {}]]]}, {\"name\": \"conv_pw_1_relu\", \"class_name\": \"ReLU\", \"config\": {\"name\": \"conv_pw_1_relu\", \"trainable\": false, \"max_value\": 6.0, \"negative_slope\": 0.0, \"threshold\": 0.0}, \"inbound_nodes\": [[[\"conv_pw_1_bn\", 0, 0, {}]]]}, {\"name\": \"conv_pad_2\", \"class_name\": \"ZeroPadding2D\", \"config\": {\"name\": \"conv_pad_2\", \"trainable\": false, \"padding\": [[0, 1], [0, 1]], \"data_format\": \"channels_last\"}, \"inbound_nodes\": [[[\"conv_pw_1_relu\", 0, 0, {}]]]}, {\"name\": \"conv_dw_2\", \"class_name\": \"DepthwiseConv2D\", \"config\": {\"name\": \"conv_dw_2\", \"trainable\": false, \"kernel_size\": [3, 3], \"strides\": [2, 2], \"padding\": \"valid\", \"data_format\": \"channels_last\", \"dilation_rate\": [1, 1], \"activation\": \"linear\", \"use_bias\": false, \"bias_initializer\": {\"class_name\": \"Zeros\", \"config\": {}}, \"bias_regularizer\": null, \"activity_regularizer\": null, \"bias_constraint\": null, \"depth_multiplier\": 1, \"depthwise_initializer\": {\"class_name\": \"VarianceScaling\", \"config\": {\"scale\": 1.0, \"mode\": \"fan_avg\", \"distribution\": \"uniform\", \"seed\": null}}, \"depthwise_regularizer\": null, \"depthwise_constraint\": null}, \"inbound_nodes\": [[[\"conv_pad_2\", 0, 0, {}]]]}, {\"name\": \"conv_dw_2_bn\", \"class_name\": \"BatchNormalization\", \"config\": {\"name\": \"conv_dw_2_bn\", \"trainable\": false, \"axis\": -1, \"momentum\": 0.99, \"epsilon\": 0.001, \"center\": true, \"scale\": true, \"beta_initializer\": {\"class_name\": \"Zeros\", \"config\": {}}, \"gamma_initializer\": {\"class_name\": \"Ones\", \"config\": {}}, \"moving_mean_initializer\": {\"class_name\": \"Zeros\", \"config\": {}}, \"moving_variance_initializer\": {\"class_name\": \"Ones\", \"config\": {}}, \"beta_regularizer\": null, \"gamma_regularizer\": null, \"beta_constraint\": null, \"gamma_constraint\": null}, \"inbound_nodes\": [[[\"conv_dw_2\", 0, 0, {}]]]}, {\"name\": \"conv_dw_2_relu\", \"class_name\": \"ReLU\", \"config\": {\"name\": \"conv_dw_2_relu\", \"trainable\": false, \"max_value\": 6.0, \"negative_slope\": 0.0, \"threshold\": 0.0}, \"inbound_nodes\": [[[\"conv_dw_2_bn\", 0, 0, {}]]]}, {\"name\": \"conv_pw_2\", \"class_name\": \"Conv2D\", \"config\": {\"name\": \"conv_pw_2\", \"trainable\": false, \"filters\": 128, \"kernel_size\": [1, 1], \"strides\": [1, 1], \"padding\": \"same\", \"data_format\": \"channels_last\", \"dilation_rate\": [1, 1], \"activation\": \"linear\", \"use_bias\": false, \"kernel_initializer\": {\"class_name\": \"VarianceScaling\", \"config\": {\"scale\": 1.0, \"mode\": \"fan_avg\", \"distribution\": \"uniform\", \"seed\": null}}, \"bias_initializer\": {\"class_name\": \"Zeros\", \"config\": {}}, \"kernel_regularizer\": null, \"bias_regularizer\": null, \"activity_regularizer\": null, \"kernel_constraint\": null, \"bias_constraint\": null}, \"inbound_nodes\": [[[\"conv_dw_2_relu\", 0, 0, {}]]]}, {\"name\": \"conv_pw_2_bn\", \"class_name\": \"BatchNormalization\", \"config\": {\"name\": \"conv_pw_2_bn\", \"trainable\": false, \"axis\": -1, \"momentum\": 0.99, \"epsilon\": 0.001, \"center\": true, \"scale\": true, \"beta_initializer\": {\"class_name\": \"Zeros\", \"config\": {}}, \"gamma_initializer\": {\"class_name\": \"Ones\", \"config\": {}}, \"moving_mean_initializer\": {\"class_name\": \"Zeros\", \"config\": {}}, \"moving_variance_initializer\": {\"class_name\": \"Ones\", \"config\": {}}, \"beta_regularizer\": null, \"gamma_regularizer\": null, \"beta_constraint\": null, \"gamma_constraint\": null}, \"inbound_nodes\": [[[\"conv_pw_2\", 0, 0, {}]]]}, {\"name\": \"conv_pw_2_relu\", \"class_name\": \"ReLU\", \"config\": {\"name\": \"conv_pw_2_relu\", \"trainable\": false, \"max_value\": 6.0, \"negative_slope\": 0.0, \"threshold\": 0.0}, \"inbound_nodes\": [[[\"conv_pw_2_bn\", 0, 0, {}]]]}, {\"name\": \"conv_dw_3\", \"class_name\": \"DepthwiseConv2D\", \"config\": {\"name\": \"conv_dw_3\", \"trainable\": false, \"kernel_size\": [3, 3], \"strides\": [1, 1], \"padding\": \"same\", \"data_format\": \"channels_last\", \"dilation_rate\": [1, 1], \"activation\": \"linear\", \"use_bias\": false, \"bias_initializer\": {\"class_name\": \"Zeros\", \"config\": {}}, \"bias_regularizer\": null, \"activity_regularizer\": null, \"bias_constraint\": null, \"depth_multiplier\": 1, \"depthwise_initializer\": {\"class_name\": \"VarianceScaling\", \"config\": {\"scale\": 1.0, \"mode\": \"fan_avg\", \"distribution\": \"uniform\", \"seed\": null}}, \"depthwise_regularizer\": null, \"depthwise_constraint\": null}, \"inbound_nodes\": [[[\"conv_pw_2_relu\", 0, 0, {}]]]}, {\"name\": \"conv_dw_3_bn\", \"class_name\": \"BatchNormalization\", \"config\": {\"name\": \"conv_dw_3_bn\", \"trainable\": false, \"axis\": -1, \"momentum\": 0.99, \"epsilon\": 0.001, \"center\": true, \"scale\": true, \"beta_initializer\": {\"class_name\": \"Zeros\", \"config\": {}}, \"gamma_initializer\": {\"class_name\": \"Ones\", \"config\": {}}, \"moving_mean_initializer\": {\"class_name\": \"Zeros\", \"config\": {}}, \"moving_variance_initializer\": {\"class_name\": \"Ones\", \"config\": {}}, \"beta_regularizer\": null, \"gamma_regularizer\": null, \"beta_constraint\": null, \"gamma_constraint\": null}, \"inbound_nodes\": [[[\"conv_dw_3\", 0, 0, {}]]]}, {\"name\": \"conv_dw_3_relu\", \"class_name\": \"ReLU\", \"config\": {\"name\": \"conv_dw_3_relu\", \"trainable\": false, \"max_value\": 6.0, \"negative_slope\": 0.0, \"threshold\": 0.0}, \"inbound_nodes\": [[[\"conv_dw_3_bn\", 0, 0, {}]]]}, {\"name\": \"conv_pw_3\", \"class_name\": \"Conv2D\", \"config\": {\"name\": \"conv_pw_3\", \"trainable\": false, \"filters\": 128, \"kernel_size\": [1, 1], \"strides\": [1, 1], \"padding\": \"same\", \"data_format\": \"channels_last\", \"dilation_rate\": [1, 1], \"activation\": \"linear\", \"use_bias\": false, \"kernel_initializer\": {\"class_name\": \"VarianceScaling\", \"config\": {\"scale\": 1.0, \"mode\": \"fan_avg\", \"distribution\": \"uniform\", \"seed\": null}}, \"bias_initializer\": {\"class_name\": \"Zeros\", \"config\": {}}, \"kernel_regularizer\": null, \"bias_regularizer\": null, \"activity_regularizer\": null, \"kernel_constraint\": null, \"bias_constraint\": null}, \"inbound_nodes\": [[[\"conv_dw_3_relu\", 0, 0, {}]]]}, {\"name\": \"conv_pw_3_bn\", \"class_name\": \"BatchNormalization\", \"config\": {\"name\": \"conv_pw_3_bn\", \"trainable\": false, \"axis\": -1, \"momentum\": 0.99, \"epsilon\": 0.001, \"center\": true, \"scale\": true, \"beta_initializer\": {\"class_name\": \"Zeros\", \"config\": {}}, \"gamma_initializer\": {\"class_name\": \"Ones\", \"config\": {}}, \"moving_mean_initializer\": {\"class_name\": \"Zeros\", \"config\": {}}, \"moving_variance_initializer\": {\"class_name\": \"Ones\", \"config\": {}}, \"beta_regularizer\": null, \"gamma_regularizer\": null, \"beta_constraint\": null, \"gamma_constraint\": null}, \"inbound_nodes\": [[[\"conv_pw_3\", 0, 0, {}]]]}, {\"name\": \"conv_pw_3_relu\", \"class_name\": \"ReLU\", \"config\": {\"name\": \"conv_pw_3_relu\", \"trainable\": false, \"max_value\": 6.0, \"negative_slope\": 0.0, \"threshold\": 0.0}, \"inbound_nodes\": [[[\"conv_pw_3_bn\", 0, 0, {}]]]}, {\"name\": \"conv_pad_4\", \"class_name\": \"ZeroPadding2D\", \"config\": {\"name\": \"conv_pad_4\", \"trainable\": false, \"padding\": [[0, 1], [0, 1]], \"data_format\": \"channels_last\"}, \"inbound_nodes\": [[[\"conv_pw_3_relu\", 0, 0, {}]]]}, {\"name\": \"conv_dw_4\", \"class_name\": \"DepthwiseConv2D\", \"config\": {\"name\": \"conv_dw_4\", \"trainable\": false, \"kernel_size\": [3, 3], \"strides\": [2, 2], \"padding\": \"valid\", \"data_format\": \"channels_last\", \"dilation_rate\": [1, 1], \"activation\": \"linear\", \"use_bias\": false, \"bias_initializer\": {\"class_name\": \"Zeros\", \"config\": {}}, \"bias_regularizer\": null, \"activity_regularizer\": null, \"bias_constraint\": null, \"depth_multiplier\": 1, \"depthwise_initializer\": {\"class_name\": \"VarianceScaling\", \"config\": {\"scale\": 1.0, \"mode\": \"fan_avg\", \"distribution\": \"uniform\", \"seed\": null}}, \"depthwise_regularizer\": null, \"depthwise_constraint\": null}, \"inbound_nodes\": [[[\"conv_pad_4\", 0, 0, {}]]]}, {\"name\": \"conv_dw_4_bn\", \"class_name\": \"BatchNormalization\", \"config\": {\"name\": \"conv_dw_4_bn\", \"trainable\": false, \"axis\": -1, \"momentum\": 0.99, \"epsilon\": 0.001, \"center\": true, \"scale\": true, \"beta_initializer\": {\"class_name\": \"Zeros\", \"config\": {}}, \"gamma_initializer\": {\"class_name\": \"Ones\", \"config\": {}}, \"moving_mean_initializer\": {\"class_name\": \"Zeros\", \"config\": {}}, \"moving_variance_initializer\": {\"class_name\": \"Ones\", \"config\": {}}, \"beta_regularizer\": null, \"gamma_regularizer\": null, \"beta_constraint\": null, \"gamma_constraint\": null}, \"inbound_nodes\": [[[\"conv_dw_4\", 0, 0, {}]]]}, {\"name\": \"conv_dw_4_relu\", \"class_name\": \"ReLU\", \"config\": {\"name\": \"conv_dw_4_relu\", \"trainable\": false, \"max_value\": 6.0, \"negative_slope\": 0.0, \"threshold\": 0.0}, \"inbound_nodes\": [[[\"conv_dw_4_bn\", 0, 0, {}]]]}, {\"name\": \"conv_pw_4\", \"class_name\": \"Conv2D\", \"config\": {\"name\": \"conv_pw_4\", \"trainable\": false, \"filters\": 256, \"kernel_size\": [1, 1], \"strides\": [1, 1], \"padding\": \"same\", \"data_format\": \"channels_last\", \"dilation_rate\": [1, 1], \"activation\": \"linear\", \"use_bias\": false, \"kernel_initializer\": {\"class_name\": \"VarianceScaling\", \"config\": {\"scale\": 1.0, \"mode\": \"fan_avg\", \"distribution\": \"uniform\", \"seed\": null}}, \"bias_initializer\": {\"class_name\": \"Zeros\", \"config\": {}}, \"kernel_regularizer\": null, \"bias_regularizer\": null, \"activity_regularizer\": null, \"kernel_constraint\": null, \"bias_constraint\": null}, \"inbound_nodes\": [[[\"conv_dw_4_relu\", 0, 0, {}]]]}, {\"name\": \"conv_pw_4_bn\", \"class_name\": \"BatchNormalization\", \"config\": {\"name\": \"conv_pw_4_bn\", \"trainable\": false, \"axis\": -1, \"momentum\": 0.99, \"epsilon\": 0.001, \"center\": true, \"scale\": true, \"beta_initializer\": {\"class_name\": \"Zeros\", \"config\": {}}, \"gamma_initializer\": {\"class_name\": \"Ones\", \"config\": {}}, \"moving_mean_initializer\": {\"class_name\": \"Zeros\", \"config\": {}}, \"moving_variance_initializer\": {\"class_name\": \"Ones\", \"config\": {}}, \"beta_regularizer\": null, \"gamma_regularizer\": null, \"beta_constraint\": null, \"gamma_constraint\": null}, \"inbound_nodes\": [[[\"conv_pw_4\", 0, 0, {}]]]}, {\"name\": \"conv_pw_4_relu\", \"class_name\": \"ReLU\", \"config\": {\"name\": \"conv_pw_4_relu\", \"trainable\": false, \"max_value\": 6.0, \"negative_slope\": 0.0, \"threshold\": 0.0}, \"inbound_nodes\": [[[\"conv_pw_4_bn\", 0, 0, {}]]]}, {\"name\": \"conv_dw_5\", \"class_name\": \"DepthwiseConv2D\", \"config\": {\"name\": \"conv_dw_5\", \"trainable\": false, \"kernel_size\": [3, 3], \"strides\": [1, 1], \"padding\": \"same\", \"data_format\": \"channels_last\", \"dilation_rate\": [1, 1], \"activation\": \"linear\", \"use_bias\": false, \"bias_initializer\": {\"class_name\": \"Zeros\", \"config\": {}}, \"bias_regularizer\": null, \"activity_regularizer\": null, \"bias_constraint\": null, \"depth_multiplier\": 1, \"depthwise_initializer\": {\"class_name\": \"VarianceScaling\", \"config\": {\"scale\": 1.0, \"mode\": \"fan_avg\", \"distribution\": \"uniform\", \"seed\": null}}, \"depthwise_regularizer\": null, \"depthwise_constraint\": null}, \"inbound_nodes\": [[[\"conv_pw_4_relu\", 0, 0, {}]]]}, {\"name\": \"conv_dw_5_bn\", \"class_name\": \"BatchNormalization\", \"config\": {\"name\": \"conv_dw_5_bn\", \"trainable\": false, \"axis\": -1, \"momentum\": 0.99, \"epsilon\": 0.001, \"center\": true, \"scale\": true, \"beta_initializer\": {\"class_name\": \"Zeros\", \"config\": {}}, \"gamma_initializer\": {\"class_name\": \"Ones\", \"config\": {}}, \"moving_mean_initializer\": {\"class_name\": \"Zeros\", \"config\": {}}, \"moving_variance_initializer\": {\"class_name\": \"Ones\", \"config\": {}}, \"beta_regularizer\": null, \"gamma_regularizer\": null, \"beta_constraint\": null, \"gamma_constraint\": null}, \"inbound_nodes\": [[[\"conv_dw_5\", 0, 0, {}]]]}, {\"name\": \"conv_dw_5_relu\", \"class_name\": \"ReLU\", \"config\": {\"name\": \"conv_dw_5_relu\", \"trainable\": false, \"max_value\": 6.0, \"negative_slope\": 0.0, \"threshold\": 0.0}, \"inbound_nodes\": [[[\"conv_dw_5_bn\", 0, 0, {}]]]}, {\"name\": \"conv_pw_5\", \"class_name\": \"Conv2D\", \"config\": {\"name\": \"conv_pw_5\", \"trainable\": false, \"filters\": 256, \"kernel_size\": [1, 1], \"strides\": [1, 1], \"padding\": \"same\", \"data_format\": \"channels_last\", \"dilation_rate\": [1, 1], \"activation\": \"linear\", \"use_bias\": false, \"kernel_initializer\": {\"class_name\": \"VarianceScaling\", \"config\": {\"scale\": 1.0, \"mode\": \"fan_avg\", \"distribution\": \"uniform\", \"seed\": null}}, \"bias_initializer\": {\"class_name\": \"Zeros\", \"config\": {}}, \"kernel_regularizer\": null, \"bias_regularizer\": null, \"activity_regularizer\": null, \"kernel_constraint\": null, \"bias_constraint\": null}, \"inbound_nodes\": [[[\"conv_dw_5_relu\", 0, 0, {}]]]}, {\"name\": \"conv_pw_5_bn\", \"class_name\": \"BatchNormalization\", \"config\": {\"name\": \"conv_pw_5_bn\", \"trainable\": false, \"axis\": -1, \"momentum\": 0.99, \"epsilon\": 0.001, \"center\": true, \"scale\": true, \"beta_initializer\": {\"class_name\": \"Zeros\", \"config\": {}}, \"gamma_initializer\": {\"class_name\": \"Ones\", \"config\": {}}, \"moving_mean_initializer\": {\"class_name\": \"Zeros\", \"config\": {}}, \"moving_variance_initializer\": {\"class_name\": \"Ones\", \"config\": {}}, \"beta_regularizer\": null, \"gamma_regularizer\": null, \"beta_constraint\": null, \"gamma_constraint\": null}, \"inbound_nodes\": [[[\"conv_pw_5\", 0, 0, {}]]]}, {\"name\": \"conv_pw_5_relu\", \"class_name\": \"ReLU\", \"config\": {\"name\": \"conv_pw_5_relu\", \"trainable\": false, \"max_value\": 6.0, \"negative_slope\": 0.0, \"threshold\": 0.0}, \"inbound_nodes\": [[[\"conv_pw_5_bn\", 0, 0, {}]]]}, {\"name\": \"conv_pad_6\", \"class_name\": \"ZeroPadding2D\", \"config\": {\"name\": \"conv_pad_6\", \"trainable\": false, \"padding\": [[0, 1], [0, 1]], \"data_format\": \"channels_last\"}, \"inbound_nodes\": [[[\"conv_pw_5_relu\", 0, 0, {}]]]}, {\"name\": \"conv_dw_6\", \"class_name\": \"DepthwiseConv2D\", \"config\": {\"name\": \"conv_dw_6\", \"trainable\": false, \"kernel_size\": [3, 3], \"strides\": [2, 2], \"padding\": \"valid\", \"data_format\": \"channels_last\", \"dilation_rate\": [1, 1], \"activation\": \"linear\", \"use_bias\": false, \"bias_initializer\": {\"class_name\": \"Zeros\", \"config\": {}}, \"bias_regularizer\": null, \"activity_regularizer\": null, \"bias_constraint\": null, \"depth_multiplier\": 1, \"depthwise_initializer\": {\"class_name\": \"VarianceScaling\", \"config\": {\"scale\": 1.0, \"mode\": \"fan_avg\", \"distribution\": \"uniform\", \"seed\": null}}, \"depthwise_regularizer\": null, \"depthwise_constraint\": null}, \"inbound_nodes\": [[[\"conv_pad_6\", 0, 0, {}]]]}, {\"name\": \"conv_dw_6_bn\", \"class_name\": \"BatchNormalization\", \"config\": {\"name\": \"conv_dw_6_bn\", \"trainable\": false, \"axis\": -1, \"momentum\": 0.99, \"epsilon\": 0.001, \"center\": true, \"scale\": true, \"beta_initializer\": {\"class_name\": \"Zeros\", \"config\": {}}, \"gamma_initializer\": {\"class_name\": \"Ones\", \"config\": {}}, \"moving_mean_initializer\": {\"class_name\": \"Zeros\", \"config\": {}}, \"moving_variance_initializer\": {\"class_name\": \"Ones\", \"config\": {}}, \"beta_regularizer\": null, \"gamma_regularizer\": null, \"beta_constraint\": null, \"gamma_constraint\": null}, \"inbound_nodes\": [[[\"conv_dw_6\", 0, 0, {}]]]}, {\"name\": \"conv_dw_6_relu\", \"class_name\": \"ReLU\", \"config\": {\"name\": \"conv_dw_6_relu\", \"trainable\": false, \"max_value\": 6.0, \"negative_slope\": 0.0, \"threshold\": 0.0}, \"inbound_nodes\": [[[\"conv_dw_6_bn\", 0, 0, {}]]]}, {\"name\": \"conv_pw_6\", \"class_name\": \"Conv2D\", \"config\": {\"name\": \"conv_pw_6\", \"trainable\": false, \"filters\": 512, \"kernel_size\": [1, 1], \"strides\": [1, 1], \"padding\": \"same\", \"data_format\": \"channels_last\", \"dilation_rate\": [1, 1], \"activation\": \"linear\", \"use_bias\": false, \"kernel_initializer\": {\"class_name\": \"VarianceScaling\", \"config\": {\"scale\": 1.0, \"mode\": \"fan_avg\", \"distribution\": \"uniform\", \"seed\": null}}, \"bias_initializer\": {\"class_name\": \"Zeros\", \"config\": {}}, \"kernel_regularizer\": null, \"bias_regularizer\": null, \"activity_regularizer\": null, \"kernel_constraint\": null, \"bias_constraint\": null}, \"inbound_nodes\": [[[\"conv_dw_6_relu\", 0, 0, {}]]]}, {\"name\": \"conv_pw_6_bn\", \"class_name\": \"BatchNormalization\", \"config\": {\"name\": \"conv_pw_6_bn\", \"trainable\": false, \"axis\": -1, \"momentum\": 0.99, \"epsilon\": 0.001, \"center\": true, \"scale\": true, \"beta_initializer\": {\"class_name\": \"Zeros\", \"config\": {}}, \"gamma_initializer\": {\"class_name\": \"Ones\", \"config\": {}}, \"moving_mean_initializer\": {\"class_name\": \"Zeros\", \"config\": {}}, \"moving_variance_initializer\": {\"class_name\": \"Ones\", \"config\": {}}, \"beta_regularizer\": null, \"gamma_regularizer\": null, \"beta_constraint\": null, \"gamma_constraint\": null}, \"inbound_nodes\": [[[\"conv_pw_6\", 0, 0, {}]]]}, {\"name\": \"conv_pw_6_relu\", \"class_name\": \"ReLU\", \"config\": {\"name\": \"conv_pw_6_relu\", \"trainable\": false, \"max_value\": 6.0, \"negative_slope\": 0.0, \"threshold\": 0.0}, \"inbound_nodes\": [[[\"conv_pw_6_bn\", 0, 0, {}]]]}, {\"name\": \"conv_dw_7\", \"class_name\": \"DepthwiseConv2D\", \"config\": {\"name\": \"conv_dw_7\", \"trainable\": false, \"kernel_size\": [3, 3], \"strides\": [1, 1], \"padding\": \"same\", \"data_format\": \"channels_last\", \"dilation_rate\": [1, 1], \"activation\": \"linear\", \"use_bias\": false, \"bias_initializer\": {\"class_name\": \"Zeros\", \"config\": {}}, \"bias_regularizer\": null, \"activity_regularizer\": null, \"bias_constraint\": null, \"depth_multiplier\": 1, \"depthwise_initializer\": {\"class_name\": \"VarianceScaling\", \"config\": {\"scale\": 1.0, \"mode\": \"fan_avg\", \"distribution\": \"uniform\", \"seed\": null}}, \"depthwise_regularizer\": null, \"depthwise_constraint\": null}, \"inbound_nodes\": [[[\"conv_pw_6_relu\", 0, 0, {}]]]}, {\"name\": \"conv_dw_7_bn\", \"class_name\": \"BatchNormalization\", \"config\": {\"name\": \"conv_dw_7_bn\", \"trainable\": false, \"axis\": -1, \"momentum\": 0.99, \"epsilon\": 0.001, \"center\": true, \"scale\": true, \"beta_initializer\": {\"class_name\": \"Zeros\", \"config\": {}}, \"gamma_initializer\": {\"class_name\": \"Ones\", \"config\": {}}, \"moving_mean_initializer\": {\"class_name\": \"Zeros\", \"config\": {}}, \"moving_variance_initializer\": {\"class_name\": \"Ones\", \"config\": {}}, \"beta_regularizer\": null, \"gamma_regularizer\": null, \"beta_constraint\": null, \"gamma_constraint\": null}, \"inbound_nodes\": [[[\"conv_dw_7\", 0, 0, {}]]]}, {\"name\": \"conv_dw_7_relu\", \"class_name\": \"ReLU\", \"config\": {\"name\": \"conv_dw_7_relu\", \"trainable\": false, \"max_value\": 6.0, \"negative_slope\": 0.0, \"threshold\": 0.0}, \"inbound_nodes\": [[[\"conv_dw_7_bn\", 0, 0, {}]]]}, {\"name\": \"conv_pw_7\", \"class_name\": \"Conv2D\", \"config\": {\"name\": \"conv_pw_7\", \"trainable\": false, \"filters\": 512, \"kernel_size\": [1, 1], \"strides\": [1, 1], \"padding\": \"same\", \"data_format\": \"channels_last\", \"dilation_rate\": [1, 1], \"activation\": \"linear\", \"use_bias\": false, \"kernel_initializer\": {\"class_name\": \"VarianceScaling\", \"config\": {\"scale\": 1.0, \"mode\": \"fan_avg\", \"distribution\": \"uniform\", \"seed\": null}}, \"bias_initializer\": {\"class_name\": \"Zeros\", \"config\": {}}, \"kernel_regularizer\": null, \"bias_regularizer\": null, \"activity_regularizer\": null, \"kernel_constraint\": null, \"bias_constraint\": null}, \"inbound_nodes\": [[[\"conv_dw_7_relu\", 0, 0, {}]]]}, {\"name\": \"conv_pw_7_bn\", \"class_name\": \"BatchNormalization\", \"config\": {\"name\": \"conv_pw_7_bn\", \"trainable\": false, \"axis\": -1, \"momentum\": 0.99, \"epsilon\": 0.001, \"center\": true, \"scale\": true, \"beta_initializer\": {\"class_name\": \"Zeros\", \"config\": {}}, \"gamma_initializer\": {\"class_name\": \"Ones\", \"config\": {}}, \"moving_mean_initializer\": {\"class_name\": \"Zeros\", \"config\": {}}, \"moving_variance_initializer\": {\"class_name\": \"Ones\", \"config\": {}}, \"beta_regularizer\": null, \"gamma_regularizer\": null, \"beta_constraint\": null, \"gamma_constraint\": null}, \"inbound_nodes\": [[[\"conv_pw_7\", 0, 0, {}]]]}, {\"name\": \"conv_pw_7_relu\", \"class_name\": \"ReLU\", \"config\": {\"name\": \"conv_pw_7_relu\", \"trainable\": false, \"max_value\": 6.0, \"negative_slope\": 0.0, \"threshold\": 0.0}, \"inbound_nodes\": [[[\"conv_pw_7_bn\", 0, 0, {}]]]}, {\"name\": \"conv_dw_8\", \"class_name\": \"DepthwiseConv2D\", \"config\": {\"name\": \"conv_dw_8\", \"trainable\": false, \"kernel_size\": [3, 3], \"strides\": [1, 1], \"padding\": \"same\", \"data_format\": \"channels_last\", \"dilation_rate\": [1, 1], \"activation\": \"linear\", \"use_bias\": false, \"bias_initializer\": {\"class_name\": \"Zeros\", \"config\": {}}, \"bias_regularizer\": null, \"activity_regularizer\": null, \"bias_constraint\": null, \"depth_multiplier\": 1, \"depthwise_initializer\": {\"class_name\": \"VarianceScaling\", \"config\": {\"scale\": 1.0, \"mode\": \"fan_avg\", \"distribution\": \"uniform\", \"seed\": null}}, \"depthwise_regularizer\": null, \"depthwise_constraint\": null}, \"inbound_nodes\": [[[\"conv_pw_7_relu\", 0, 0, {}]]]}, {\"name\": \"conv_dw_8_bn\", \"class_name\": \"BatchNormalization\", \"config\": {\"name\": \"conv_dw_8_bn\", \"trainable\": false, \"axis\": -1, \"momentum\": 0.99, \"epsilon\": 0.001, \"center\": true, \"scale\": true, \"beta_initializer\": {\"class_name\": \"Zeros\", \"config\": {}}, \"gamma_initializer\": {\"class_name\": \"Ones\", \"config\": {}}, \"moving_mean_initializer\": {\"class_name\": \"Zeros\", \"config\": {}}, \"moving_variance_initializer\": {\"class_name\": \"Ones\", \"config\": {}}, \"beta_regularizer\": null, \"gamma_regularizer\": null, \"beta_constraint\": null, \"gamma_constraint\": null}, \"inbound_nodes\": [[[\"conv_dw_8\", 0, 0, {}]]]}, {\"name\": \"conv_dw_8_relu\", \"class_name\": \"ReLU\", \"config\": {\"name\": \"conv_dw_8_relu\", \"trainable\": false, \"max_value\": 6.0, \"negative_slope\": 0.0, \"threshold\": 0.0}, \"inbound_nodes\": [[[\"conv_dw_8_bn\", 0, 0, {}]]]}, {\"name\": \"conv_pw_8\", \"class_name\": \"Conv2D\", \"config\": {\"name\": \"conv_pw_8\", \"trainable\": false, \"filters\": 512, \"kernel_size\": [1, 1], \"strides\": [1, 1], \"padding\": \"same\", \"data_format\": \"channels_last\", \"dilation_rate\": [1, 1], \"activation\": \"linear\", \"use_bias\": false, \"kernel_initializer\": {\"class_name\": \"VarianceScaling\", \"config\": {\"scale\": 1.0, \"mode\": \"fan_avg\", \"distribution\": \"uniform\", \"seed\": null}}, \"bias_initializer\": {\"class_name\": \"Zeros\", \"config\": {}}, \"kernel_regularizer\": null, \"bias_regularizer\": null, \"activity_regularizer\": null, \"kernel_constraint\": null, \"bias_constraint\": null}, \"inbound_nodes\": [[[\"conv_dw_8_relu\", 0, 0, {}]]]}, {\"name\": \"conv_pw_8_bn\", \"class_name\": \"BatchNormalization\", \"config\": {\"name\": \"conv_pw_8_bn\", \"trainable\": false, \"axis\": -1, \"momentum\": 0.99, \"epsilon\": 0.001, \"center\": true, \"scale\": true, \"beta_initializer\": {\"class_name\": \"Zeros\", \"config\": {}}, \"gamma_initializer\": {\"class_name\": \"Ones\", \"config\": {}}, \"moving_mean_initializer\": {\"class_name\": \"Zeros\", \"config\": {}}, \"moving_variance_initializer\": {\"class_name\": \"Ones\", \"config\": {}}, \"beta_regularizer\": null, \"gamma_regularizer\": null, \"beta_constraint\": null, \"gamma_constraint\": null}, \"inbound_nodes\": [[[\"conv_pw_8\", 0, 0, {}]]]}, {\"name\": \"conv_pw_8_relu\", \"class_name\": \"ReLU\", \"config\": {\"name\": \"conv_pw_8_relu\", \"trainable\": false, \"max_value\": 6.0, \"negative_slope\": 0.0, \"threshold\": 0.0}, \"inbound_nodes\": [[[\"conv_pw_8_bn\", 0, 0, {}]]]}, {\"name\": \"conv_dw_9\", \"class_name\": \"DepthwiseConv2D\", \"config\": {\"name\": \"conv_dw_9\", \"trainable\": false, \"kernel_size\": [3, 3], \"strides\": [1, 1], \"padding\": \"same\", \"data_format\": \"channels_last\", \"dilation_rate\": [1, 1], \"activation\": \"linear\", \"use_bias\": false, \"bias_initializer\": {\"class_name\": \"Zeros\", \"config\": {}}, \"bias_regularizer\": null, \"activity_regularizer\": null, \"bias_constraint\": null, \"depth_multiplier\": 1, \"depthwise_initializer\": {\"class_name\": \"VarianceScaling\", \"config\": {\"scale\": 1.0, \"mode\": \"fan_avg\", \"distribution\": \"uniform\", \"seed\": null}}, \"depthwise_regularizer\": null, \"depthwise_constraint\": null}, \"inbound_nodes\": [[[\"conv_pw_8_relu\", 0, 0, {}]]]}, {\"name\": \"conv_dw_9_bn\", \"class_name\": \"BatchNormalization\", \"config\": {\"name\": \"conv_dw_9_bn\", \"trainable\": false, \"axis\": -1, \"momentum\": 0.99, \"epsilon\": 0.001, \"center\": true, \"scale\": true, \"beta_initializer\": {\"class_name\": \"Zeros\", \"config\": {}}, \"gamma_initializer\": {\"class_name\": \"Ones\", \"config\": {}}, \"moving_mean_initializer\": {\"class_name\": \"Zeros\", \"config\": {}}, \"moving_variance_initializer\": {\"class_name\": \"Ones\", \"config\": {}}, \"beta_regularizer\": null, \"gamma_regularizer\": null, \"beta_constraint\": null, \"gamma_constraint\": null}, \"inbound_nodes\": [[[\"conv_dw_9\", 0, 0, {}]]]}, {\"name\": \"conv_dw_9_relu\", \"class_name\": \"ReLU\", \"config\": {\"name\": \"conv_dw_9_relu\", \"trainable\": false, \"max_value\": 6.0, \"negative_slope\": 0.0, \"threshold\": 0.0}, \"inbound_nodes\": [[[\"conv_dw_9_bn\", 0, 0, {}]]]}, {\"name\": \"conv_pw_9\", \"class_name\": \"Conv2D\", \"config\": {\"name\": \"conv_pw_9\", \"trainable\": false, \"filters\": 512, \"kernel_size\": [1, 1], \"strides\": [1, 1], \"padding\": \"same\", \"data_format\": \"channels_last\", \"dilation_rate\": [1, 1], \"activation\": \"linear\", \"use_bias\": false, \"kernel_initializer\": {\"class_name\": \"VarianceScaling\", \"config\": {\"scale\": 1.0, \"mode\": \"fan_avg\", \"distribution\": \"uniform\", \"seed\": null}}, \"bias_initializer\": {\"class_name\": \"Zeros\", \"config\": {}}, \"kernel_regularizer\": null, \"bias_regularizer\": null, \"activity_regularizer\": null, \"kernel_constraint\": null, \"bias_constraint\": null}, \"inbound_nodes\": [[[\"conv_dw_9_relu\", 0, 0, {}]]]}, {\"name\": \"conv_pw_9_bn\", \"class_name\": \"BatchNormalization\", \"config\": {\"name\": \"conv_pw_9_bn\", \"trainable\": false, \"axis\": -1, \"momentum\": 0.99, \"epsilon\": 0.001, \"center\": true, \"scale\": true, \"beta_initializer\": {\"class_name\": \"Zeros\", \"config\": {}}, \"gamma_initializer\": {\"class_name\": \"Ones\", \"config\": {}}, \"moving_mean_initializer\": {\"class_name\": \"Zeros\", \"config\": {}}, \"moving_variance_initializer\": {\"class_name\": \"Ones\", \"config\": {}}, \"beta_regularizer\": null, \"gamma_regularizer\": null, \"beta_constraint\": null, \"gamma_constraint\": null}, \"inbound_nodes\": [[[\"conv_pw_9\", 0, 0, {}]]]}, {\"name\": \"conv_pw_9_relu\", \"class_name\": \"ReLU\", \"config\": {\"name\": \"conv_pw_9_relu\", \"trainable\": false, \"max_value\": 6.0, \"negative_slope\": 0.0, \"threshold\": 0.0}, \"inbound_nodes\": [[[\"conv_pw_9_bn\", 0, 0, {}]]]}, {\"name\": \"conv_dw_10\", \"class_name\": \"DepthwiseConv2D\", \"config\": {\"name\": \"conv_dw_10\", \"trainable\": false, \"kernel_size\": [3, 3], \"strides\": [1, 1], \"padding\": \"same\", \"data_format\": \"channels_last\", \"dilation_rate\": [1, 1], \"activation\": \"linear\", \"use_bias\": false, \"bias_initializer\": {\"class_name\": \"Zeros\", \"config\": {}}, \"bias_regularizer\": null, \"activity_regularizer\": null, \"bias_constraint\": null, \"depth_multiplier\": 1, \"depthwise_initializer\": {\"class_name\": \"VarianceScaling\", \"config\": {\"scale\": 1.0, \"mode\": \"fan_avg\", \"distribution\": \"uniform\", \"seed\": null}}, \"depthwise_regularizer\": null, \"depthwise_constraint\": null}, \"inbound_nodes\": [[[\"conv_pw_9_relu\", 0, 0, {}]]]}, {\"name\": \"conv_dw_10_bn\", \"class_name\": \"BatchNormalization\", \"config\": {\"name\": \"conv_dw_10_bn\", \"trainable\": false, \"axis\": -1, \"momentum\": 0.99, \"epsilon\": 0.001, \"center\": true, \"scale\": true, \"beta_initializer\": {\"class_name\": \"Zeros\", \"config\": {}}, \"gamma_initializer\": {\"class_name\": \"Ones\", \"config\": {}}, \"moving_mean_initializer\": {\"class_name\": \"Zeros\", \"config\": {}}, \"moving_variance_initializer\": {\"class_name\": \"Ones\", \"config\": {}}, \"beta_regularizer\": null, \"gamma_regularizer\": null, \"beta_constraint\": null, \"gamma_constraint\": null}, \"inbound_nodes\": [[[\"conv_dw_10\", 0, 0, {}]]]}, {\"name\": \"conv_dw_10_relu\", \"class_name\": \"ReLU\", \"config\": {\"name\": \"conv_dw_10_relu\", \"trainable\": false, \"max_value\": 6.0, \"negative_slope\": 0.0, \"threshold\": 0.0}, \"inbound_nodes\": [[[\"conv_dw_10_bn\", 0, 0, {}]]]}, {\"name\": \"conv_pw_10\", \"class_name\": \"Conv2D\", \"config\": {\"name\": \"conv_pw_10\", \"trainable\": false, \"filters\": 512, \"kernel_size\": [1, 1], \"strides\": [1, 1], \"padding\": \"same\", \"data_format\": \"channels_last\", \"dilation_rate\": [1, 1], \"activation\": \"linear\", \"use_bias\": false, \"kernel_initializer\": {\"class_name\": \"VarianceScaling\", \"config\": {\"scale\": 1.0, \"mode\": \"fan_avg\", \"distribution\": \"uniform\", \"seed\": null}}, \"bias_initializer\": {\"class_name\": \"Zeros\", \"config\": {}}, \"kernel_regularizer\": null, \"bias_regularizer\": null, \"activity_regularizer\": null, \"kernel_constraint\": null, \"bias_constraint\": null}, \"inbound_nodes\": [[[\"conv_dw_10_relu\", 0, 0, {}]]]}, {\"name\": \"conv_pw_10_bn\", \"class_name\": \"BatchNormalization\", \"config\": {\"name\": \"conv_pw_10_bn\", \"trainable\": false, \"axis\": -1, \"momentum\": 0.99, \"epsilon\": 0.001, \"center\": true, \"scale\": true, \"beta_initializer\": {\"class_name\": \"Zeros\", \"config\": {}}, \"gamma_initializer\": {\"class_name\": \"Ones\", \"config\": {}}, \"moving_mean_initializer\": {\"class_name\": \"Zeros\", \"config\": {}}, \"moving_variance_initializer\": {\"class_name\": \"Ones\", \"config\": {}}, \"beta_regularizer\": null, \"gamma_regularizer\": null, \"beta_constraint\": null, \"gamma_constraint\": null}, \"inbound_nodes\": [[[\"conv_pw_10\", 0, 0, {}]]]}, {\"name\": \"conv_pw_10_relu\", \"class_name\": \"ReLU\", \"config\": {\"name\": \"conv_pw_10_relu\", \"trainable\": false, \"max_value\": 6.0, \"negative_slope\": 0.0, \"threshold\": 0.0}, \"inbound_nodes\": [[[\"conv_pw_10_bn\", 0, 0, {}]]]}, {\"name\": \"conv_dw_11\", \"class_name\": \"DepthwiseConv2D\", \"config\": {\"name\": \"conv_dw_11\", \"trainable\": false, \"kernel_size\": [3, 3], \"strides\": [1, 1], \"padding\": \"same\", \"data_format\": \"channels_last\", \"dilation_rate\": [1, 1], \"activation\": \"linear\", \"use_bias\": false, \"bias_initializer\": {\"class_name\": \"Zeros\", \"config\": {}}, \"bias_regularizer\": null, \"activity_regularizer\": null, \"bias_constraint\": null, \"depth_multiplier\": 1, \"depthwise_initializer\": {\"class_name\": \"VarianceScaling\", \"config\": {\"scale\": 1.0, \"mode\": \"fan_avg\", \"distribution\": \"uniform\", \"seed\": null}}, \"depthwise_regularizer\": null, \"depthwise_constraint\": null}, \"inbound_nodes\": [[[\"conv_pw_10_relu\", 0, 0, {}]]]}, {\"name\": \"conv_dw_11_bn\", \"class_name\": \"BatchNormalization\", \"config\": {\"name\": \"conv_dw_11_bn\", \"trainable\": false, \"axis\": -1, \"momentum\": 0.99, \"epsilon\": 0.001, \"center\": true, \"scale\": true, \"beta_initializer\": {\"class_name\": \"Zeros\", \"config\": {}}, \"gamma_initializer\": {\"class_name\": \"Ones\", \"config\": {}}, \"moving_mean_initializer\": {\"class_name\": \"Zeros\", \"config\": {}}, \"moving_variance_initializer\": {\"class_name\": \"Ones\", \"config\": {}}, \"beta_regularizer\": null, \"gamma_regularizer\": null, \"beta_constraint\": null, \"gamma_constraint\": null}, \"inbound_nodes\": [[[\"conv_dw_11\", 0, 0, {}]]]}, {\"name\": \"conv_dw_11_relu\", \"class_name\": \"ReLU\", \"config\": {\"name\": \"conv_dw_11_relu\", \"trainable\": false, \"max_value\": 6.0, \"negative_slope\": 0.0, \"threshold\": 0.0}, \"inbound_nodes\": [[[\"conv_dw_11_bn\", 0, 0, {}]]]}, {\"name\": \"conv_pw_11\", \"class_name\": \"Conv2D\", \"config\": {\"name\": \"conv_pw_11\", \"trainable\": false, \"filters\": 512, \"kernel_size\": [1, 1], \"strides\": [1, 1], \"padding\": \"same\", \"data_format\": \"channels_last\", \"dilation_rate\": [1, 1], \"activation\": \"linear\", \"use_bias\": false, \"kernel_initializer\": {\"class_name\": \"VarianceScaling\", \"config\": {\"scale\": 1.0, \"mode\": \"fan_avg\", \"distribution\": \"uniform\", \"seed\": null}}, \"bias_initializer\": {\"class_name\": \"Zeros\", \"config\": {}}, \"kernel_regularizer\": null, \"bias_regularizer\": null, \"activity_regularizer\": null, \"kernel_constraint\": null, \"bias_constraint\": null}, \"inbound_nodes\": [[[\"conv_dw_11_relu\", 0, 0, {}]]]}, {\"name\": \"conv_pw_11_bn\", \"class_name\": \"BatchNormalization\", \"config\": {\"name\": \"conv_pw_11_bn\", \"trainable\": false, \"axis\": -1, \"momentum\": 0.99, \"epsilon\": 0.001, \"center\": true, \"scale\": true, \"beta_initializer\": {\"class_name\": \"Zeros\", \"config\": {}}, \"gamma_initializer\": {\"class_name\": \"Ones\", \"config\": {}}, \"moving_mean_initializer\": {\"class_name\": \"Zeros\", \"config\": {}}, \"moving_variance_initializer\": {\"class_name\": \"Ones\", \"config\": {}}, \"beta_regularizer\": null, \"gamma_regularizer\": null, \"beta_constraint\": null, \"gamma_constraint\": null}, \"inbound_nodes\": [[[\"conv_pw_11\", 0, 0, {}]]]}, {\"name\": \"conv_pw_11_relu\", \"class_name\": \"ReLU\", \"config\": {\"name\": \"conv_pw_11_relu\", \"trainable\": false, \"max_value\": 6.0, \"negative_slope\": 0.0, \"threshold\": 0.0}, \"inbound_nodes\": [[[\"conv_pw_11_bn\", 0, 0, {}]]]}, {\"name\": \"conv_pad_12\", \"class_name\": \"ZeroPadding2D\", \"config\": {\"name\": \"conv_pad_12\", \"trainable\": false, \"padding\": [[0, 1], [0, 1]], \"data_format\": \"channels_last\"}, \"inbound_nodes\": [[[\"conv_pw_11_relu\", 0, 0, {}]]]}, {\"name\": \"conv_dw_12\", \"class_name\": \"DepthwiseConv2D\", \"config\": {\"name\": \"conv_dw_12\", \"trainable\": false, \"kernel_size\": [3, 3], \"strides\": [2, 2], \"padding\": \"valid\", \"data_format\": \"channels_last\", \"dilation_rate\": [1, 1], \"activation\": \"linear\", \"use_bias\": false, \"bias_initializer\": {\"class_name\": \"Zeros\", \"config\": {}}, \"bias_regularizer\": null, \"activity_regularizer\": null, \"bias_constraint\": null, \"depth_multiplier\": 1, \"depthwise_initializer\": {\"class_name\": \"VarianceScaling\", \"config\": {\"scale\": 1.0, \"mode\": \"fan_avg\", \"distribution\": \"uniform\", \"seed\": null}}, \"depthwise_regularizer\": null, \"depthwise_constraint\": null}, \"inbound_nodes\": [[[\"conv_pad_12\", 0, 0, {}]]]}, {\"name\": \"conv_dw_12_bn\", \"class_name\": \"BatchNormalization\", \"config\": {\"name\": \"conv_dw_12_bn\", \"trainable\": false, \"axis\": -1, \"momentum\": 0.99, \"epsilon\": 0.001, \"center\": true, \"scale\": true, \"beta_initializer\": {\"class_name\": \"Zeros\", \"config\": {}}, \"gamma_initializer\": {\"class_name\": \"Ones\", \"config\": {}}, \"moving_mean_initializer\": {\"class_name\": \"Zeros\", \"config\": {}}, \"moving_variance_initializer\": {\"class_name\": \"Ones\", \"config\": {}}, \"beta_regularizer\": null, \"gamma_regularizer\": null, \"beta_constraint\": null, \"gamma_constraint\": null}, \"inbound_nodes\": [[[\"conv_dw_12\", 0, 0, {}]]]}, {\"name\": \"conv_dw_12_relu\", \"class_name\": \"ReLU\", \"config\": {\"name\": \"conv_dw_12_relu\", \"trainable\": false, \"max_value\": 6.0, \"negative_slope\": 0.0, \"threshold\": 0.0}, \"inbound_nodes\": [[[\"conv_dw_12_bn\", 0, 0, {}]]]}, {\"name\": \"conv_pw_12\", \"class_name\": \"Conv2D\", \"config\": {\"name\": \"conv_pw_12\", \"trainable\": false, \"filters\": 1024, \"kernel_size\": [1, 1], \"strides\": [1, 1], \"padding\": \"same\", \"data_format\": \"channels_last\", \"dilation_rate\": [1, 1], \"activation\": \"linear\", \"use_bias\": false, \"kernel_initializer\": {\"class_name\": \"VarianceScaling\", \"config\": {\"scale\": 1.0, \"mode\": \"fan_avg\", \"distribution\": \"uniform\", \"seed\": null}}, \"bias_initializer\": {\"class_name\": \"Zeros\", \"config\": {}}, \"kernel_regularizer\": null, \"bias_regularizer\": null, \"activity_regularizer\": null, \"kernel_constraint\": null, \"bias_constraint\": null}, \"inbound_nodes\": [[[\"conv_dw_12_relu\", 0, 0, {}]]]}, {\"name\": \"conv_pw_12_bn\", \"class_name\": \"BatchNormalization\", \"config\": {\"name\": \"conv_pw_12_bn\", \"trainable\": false, \"axis\": -1, \"momentum\": 0.99, \"epsilon\": 0.001, \"center\": true, \"scale\": true, \"beta_initializer\": {\"class_name\": \"Zeros\", \"config\": {}}, \"gamma_initializer\": {\"class_name\": \"Ones\", \"config\": {}}, \"moving_mean_initializer\": {\"class_name\": \"Zeros\", \"config\": {}}, \"moving_variance_initializer\": {\"class_name\": \"Ones\", \"config\": {}}, \"beta_regularizer\": null, \"gamma_regularizer\": null, \"beta_constraint\": null, \"gamma_constraint\": null}, \"inbound_nodes\": [[[\"conv_pw_12\", 0, 0, {}]]]}, {\"name\": \"conv_pw_12_relu\", \"class_name\": \"ReLU\", \"config\": {\"name\": \"conv_pw_12_relu\", \"trainable\": false, \"max_value\": 6.0, \"negative_slope\": 0.0, \"threshold\": 0.0}, \"inbound_nodes\": [[[\"conv_pw_12_bn\", 0, 0, {}]]]}, {\"name\": \"conv_dw_13\", \"class_name\": \"DepthwiseConv2D\", \"config\": {\"name\": \"conv_dw_13\", \"trainable\": false, \"kernel_size\": [3, 3], \"strides\": [1, 1], \"padding\": \"same\", \"data_format\": \"channels_last\", \"dilation_rate\": [1, 1], \"activation\": \"linear\", \"use_bias\": false, \"bias_initializer\": {\"class_name\": \"Zeros\", \"config\": {}}, \"bias_regularizer\": null, \"activity_regularizer\": null, \"bias_constraint\": null, \"depth_multiplier\": 1, \"depthwise_initializer\": {\"class_name\": \"VarianceScaling\", \"config\": {\"scale\": 1.0, \"mode\": \"fan_avg\", \"distribution\": \"uniform\", \"seed\": null}}, \"depthwise_regularizer\": null, \"depthwise_constraint\": null}, \"inbound_nodes\": [[[\"conv_pw_12_relu\", 0, 0, {}]]]}, {\"name\": \"conv_dw_13_bn\", \"class_name\": \"BatchNormalization\", \"config\": {\"name\": \"conv_dw_13_bn\", \"trainable\": false, \"axis\": -1, \"momentum\": 0.99, \"epsilon\": 0.001, \"center\": true, \"scale\": true, \"beta_initializer\": {\"class_name\": \"Zeros\", \"config\": {}}, \"gamma_initializer\": {\"class_name\": \"Ones\", \"config\": {}}, \"moving_mean_initializer\": {\"class_name\": \"Zeros\", \"config\": {}}, \"moving_variance_initializer\": {\"class_name\": \"Ones\", \"config\": {}}, \"beta_regularizer\": null, \"gamma_regularizer\": null, \"beta_constraint\": null, \"gamma_constraint\": null}, \"inbound_nodes\": [[[\"conv_dw_13\", 0, 0, {}]]]}, {\"name\": \"conv_dw_13_relu\", \"class_name\": \"ReLU\", \"config\": {\"name\": \"conv_dw_13_relu\", \"trainable\": false, \"max_value\": 6.0, \"negative_slope\": 0.0, \"threshold\": 0.0}, \"inbound_nodes\": [[[\"conv_dw_13_bn\", 0, 0, {}]]]}, {\"name\": \"conv_pw_13\", \"class_name\": \"Conv2D\", \"config\": {\"name\": \"conv_pw_13\", \"trainable\": false, \"filters\": 1024, \"kernel_size\": [1, 1], \"strides\": [1, 1], \"padding\": \"same\", \"data_format\": \"channels_last\", \"dilation_rate\": [1, 1], \"activation\": \"linear\", \"use_bias\": false, \"kernel_initializer\": {\"class_name\": \"VarianceScaling\", \"config\": {\"scale\": 1.0, \"mode\": \"fan_avg\", \"distribution\": \"uniform\", \"seed\": null}}, \"bias_initializer\": {\"class_name\": \"Zeros\", \"config\": {}}, \"kernel_regularizer\": null, \"bias_regularizer\": null, \"activity_regularizer\": null, \"kernel_constraint\": null, \"bias_constraint\": null}, \"inbound_nodes\": [[[\"conv_dw_13_relu\", 0, 0, {}]]]}, {\"name\": \"conv_pw_13_bn\", \"class_name\": \"BatchNormalization\", \"config\": {\"name\": \"conv_pw_13_bn\", \"trainable\": false, \"axis\": -1, \"momentum\": 0.99, \"epsilon\": 0.001, \"center\": true, \"scale\": true, \"beta_initializer\": {\"class_name\": \"Zeros\", \"config\": {}}, \"gamma_initializer\": {\"class_name\": \"Ones\", \"config\": {}}, \"moving_mean_initializer\": {\"class_name\": \"Zeros\", \"config\": {}}, \"moving_variance_initializer\": {\"class_name\": \"Ones\", \"config\": {}}, \"beta_regularizer\": null, \"gamma_regularizer\": null, \"beta_constraint\": null, \"gamma_constraint\": null}, \"inbound_nodes\": [[[\"conv_pw_13\", 0, 0, {}]]]}, {\"name\": \"conv_pw_13_relu\", \"class_name\": \"ReLU\", \"config\": {\"name\": \"conv_pw_13_relu\", \"trainable\": false, \"max_value\": 6.0, \"negative_slope\": 0.0, \"threshold\": 0.0}, \"inbound_nodes\": [[[\"conv_pw_13_bn\", 0, 0, {}]]]}, {\"name\": \"dense_1\", \"class_name\": \"Dense\", \"config\": {\"name\": \"dense_1\", \"trainable\": true, \"units\": 49, \"activation\": \"relu\", \"use_bias\": true, \"kernel_initializer\": {\"class_name\": \"VarianceScaling\", \"config\": {\"scale\": 1.0, \"mode\": \"fan_avg\", \"distribution\": \"uniform\", \"seed\": null}}, \"bias_initializer\": {\"class_name\": \"Zeros\", \"config\": {}}, \"kernel_regularizer\": null, \"bias_regularizer\": null, \"activity_regularizer\": null, \"kernel_constraint\": null, \"bias_constraint\": null}, \"inbound_nodes\": [[[\"conv_pw_13_relu\", 0, 0, {}]]]}, {\"name\": \"global_average_pooling2d_1\", \"class_name\": \"GlobalAveragePooling2D\", \"config\": {\"name\": \"global_average_pooling2d_1\", \"trainable\": true, \"data_format\": \"channels_last\"}, \"inbound_nodes\": [[[\"dense_1\", 0, 0, {}]]]}, {\"name\": \"dense_2\", \"class_name\": \"Dense\", \"config\": {\"name\": \"dense_2\", \"trainable\": true, \"units\": 49, \"activation\": \"softmax\", \"use_bias\": true, \"kernel_initializer\": {\"class_name\": \"VarianceScaling\", \"config\": {\"scale\": 1.0, \"mode\": \"fan_avg\", \"distribution\": \"uniform\", \"seed\": null}}, \"bias_initializer\": {\"class_name\": \"Zeros\", \"config\": {}}, \"kernel_regularizer\": null, \"bias_regularizer\": null, \"activity_regularizer\": null, \"kernel_constraint\": null, \"bias_constraint\": null}, \"inbound_nodes\": [[[\"global_average_pooling2d_1\", 0, 0, {}]]]}], \"input_layers\": [[\"input_1\", 0, 0]], \"output_layers\": [[\"dense_2\", 0, 0]]}, \"keras_version\": \"2.2.4\", \"backend\": \"tensorflow\"}'"
            ]
          },
          "metadata": {
            "tags": []
          },
          "execution_count": 77
        }
      ]
    },
    {
      "metadata": {
        "id": "9masI9P_zj8C",
        "colab_type": "code",
        "colab": {}
      },
      "cell_type": "code",
      "source": [
        "f = open('json_00001_64_model.txt', 'w+')"
      ],
      "execution_count": 0,
      "outputs": []
    },
    {
      "metadata": {
        "id": "EP3uccQnz8Ti",
        "colab_type": "code",
        "colab": {
          "base_uri": "https://localhost:8080/",
          "height": 34
        },
        "outputId": "1e7b4a9c-6be3-4eee-e9a4-a214d755a9b0"
      },
      "cell_type": "code",
      "source": [
        "f.write(json_string)"
      ],
      "execution_count": 94,
      "outputs": [
        {
          "output_type": "execute_result",
          "data": {
            "text/plain": [
              "43142"
            ]
          },
          "metadata": {
            "tags": []
          },
          "execution_count": 94
        }
      ]
    },
    {
      "metadata": {
        "id": "eDZJXYTpz_bx",
        "colab_type": "code",
        "colab": {}
      },
      "cell_type": "code",
      "source": [
        "f.close()"
      ],
      "execution_count": 0,
      "outputs": []
    },
    {
      "metadata": {
        "id": "42nR8FDO0C26",
        "colab_type": "code",
        "colab": {
          "base_uri": "https://localhost:8080/",
          "height": 221
        },
        "outputId": "3441e488-7696-41fa-e9d7-e2d2e829e430"
      },
      "cell_type": "code",
      "source": [
        "model = train_Xception(train_set_path = train_set_path, val_set_path = val_set_path, validation_split = validation_split,\n",
        "                       batch_size = batch_size, horizontal_flip = horizontal_flip, rotation_range = rotation_range,\n",
        "                       model = model, epochs = epochs, target_size = target_size)"
      ],
      "execution_count": 28,
      "outputs": [
        {
          "output_type": "stream",
          "text": [
            "Found 4584 images belonging to 49 classes.\n",
            "Found 782 images belonging to 49 classes.\n",
            "Epoch 1/5\n",
            "4584/4584 [==============================] - 546s 119ms/step - loss: 0.0170 - acc: 0.9945 - val_loss: 0.3994 - val_acc: 0.9089\n",
            "Epoch 2/5\n",
            "4584/4584 [==============================] - 543s 118ms/step - loss: 0.0160 - acc: 0.9950 - val_loss: 0.3108 - val_acc: 0.9261\n",
            "Epoch 3/5\n",
            "4584/4584 [==============================] - 542s 118ms/step - loss: 0.0150 - acc: 0.9951 - val_loss: 0.2867 - val_acc: 0.9300\n",
            "Epoch 4/5\n",
            "4584/4584 [==============================] - 543s 118ms/step - loss: 0.0141 - acc: 0.9954 - val_loss: 0.3657 - val_acc: 0.9169\n",
            "Epoch 5/5\n",
            "4584/4584 [==============================] - 550s 120ms/step - loss: 0.0132 - acc: 0.9959 - val_loss: 0.3627 - val_acc: 0.9194\n"
          ],
          "name": "stdout"
        }
      ]
    },
    {
      "metadata": {
        "id": "VVjPyeTU4MVe",
        "colab_type": "code",
        "colab": {
          "base_uri": "https://localhost:8080/",
          "height": 221
        },
        "outputId": "4c247d00-b33d-49bb-a3a6-c0ddeb4c4abb"
      },
      "cell_type": "code",
      "source": [
        "model = train_Xception(train_set_path = train_set_path, val_set_path = val_set_path, validation_split = validation_split,\n",
        "                       batch_size = batch_size, horizontal_flip = horizontal_flip, rotation_range = rotation_range,\n",
        "                       model = model, epochs = epochs, target_size = target_size)"
      ],
      "execution_count": 42,
      "outputs": [
        {
          "output_type": "stream",
          "text": [
            "Found 4584 images belonging to 49 classes.\n",
            "Found 782 images belonging to 49 classes.\n",
            "Epoch 1/5\n",
            "4584/4584 [==============================] - 556s 121ms/step - loss: 0.0095 - acc: 0.9967 - val_loss: 0.3247 - val_acc: 0.9281\n",
            "Epoch 2/5\n",
            "4584/4584 [==============================] - 557s 121ms/step - loss: 0.0083 - acc: 0.9974 - val_loss: 0.3650 - val_acc: 0.9181\n",
            "Epoch 3/5\n",
            "4584/4584 [==============================] - 555s 121ms/step - loss: 0.0081 - acc: 0.9974 - val_loss: 0.3128 - val_acc: 0.9324\n",
            "Epoch 4/5\n",
            "4584/4584 [==============================] - 553s 121ms/step - loss: 0.0072 - acc: 0.9976 - val_loss: 0.3127 - val_acc: 0.9302\n",
            "Epoch 5/5\n",
            "4584/4584 [==============================] - 551s 120ms/step - loss: 0.0077 - acc: 0.9972 - val_loss: 0.3037 - val_acc: 0.9329\n"
          ],
          "name": "stdout"
        }
      ]
    },
    {
      "metadata": {
        "id": "gl7U4jAUD2w4",
        "colab_type": "code",
        "colab": {
          "base_uri": "https://localhost:8080/",
          "height": 221
        },
        "outputId": "296a3ccc-104b-40c6-e5fc-fb02f76eef85"
      },
      "cell_type": "code",
      "source": [
        "model = train_Xception(train_set_path = train_set_path, val_set_path = val_set_path, validation_split = validation_split,\n",
        "                       batch_size = batch_size, horizontal_flip = horizontal_flip, rotation_range = rotation_range,\n",
        "                       model = model, epochs = epochs, target_size = target_size)"
      ],
      "execution_count": 52,
      "outputs": [
        {
          "output_type": "stream",
          "text": [
            "Found 4584 images belonging to 49 classes.\n",
            "Found 782 images belonging to 49 classes.\n",
            "Epoch 1/5\n",
            "4584/4584 [==============================] - 553s 121ms/step - loss: 0.0069 - acc: 0.9979 - val_loss: 0.3276 - val_acc: 0.9283\n",
            "Epoch 2/5\n",
            "4584/4584 [==============================] - 539s 117ms/step - loss: 0.0068 - acc: 0.9978 - val_loss: 0.3214 - val_acc: 0.9290\n",
            "Epoch 3/5\n",
            "4584/4584 [==============================] - 546s 119ms/step - loss: 0.0069 - acc: 0.9978 - val_loss: 0.3327 - val_acc: 0.9292\n",
            "Epoch 4/5\n",
            "4584/4584 [==============================] - 550s 120ms/step - loss: 0.0074 - acc: 0.9977 - val_loss: 0.3388 - val_acc: 0.9240\n",
            "Epoch 5/5\n",
            "4584/4584 [==============================] - 552s 120ms/step - loss: 0.0066 - acc: 0.9981 - val_loss: 0.3053 - val_acc: 0.9334\n"
          ],
          "name": "stdout"
        }
      ]
    },
    {
      "metadata": {
        "id": "r0PLOjz-Q8J4",
        "colab_type": "code",
        "colab": {
          "base_uri": "https://localhost:8080/",
          "height": 221
        },
        "outputId": "0b54377c-d7c5-4c55-c4a6-32eda88a60cc"
      },
      "cell_type": "code",
      "source": [
        "model = train_Xception(train_set_path = train_set_path, val_set_path = val_set_path, validation_split = validation_split,\n",
        "                       batch_size = batch_size, horizontal_flip = horizontal_flip, rotation_range = rotation_range,\n",
        "                       model = model, epochs = epochs, target_size = target_size)"
      ],
      "execution_count": 68,
      "outputs": [
        {
          "output_type": "stream",
          "text": [
            "Found 4584 images belonging to 49 classes.\n",
            "Found 782 images belonging to 49 classes.\n",
            "Epoch 1/5\n",
            "4584/4584 [==============================] - 315s 69ms/step - loss: 0.0336 - acc: 0.9893 - val_loss: 0.3404 - val_acc: 0.9302\n",
            "Epoch 2/5\n",
            "4584/4584 [==============================] - 315s 69ms/step - loss: 0.0343 - acc: 0.9897 - val_loss: 0.3025 - val_acc: 0.9304\n",
            "Epoch 3/5\n",
            "4584/4584 [==============================] - 315s 69ms/step - loss: 0.0299 - acc: 0.9903 - val_loss: 0.3506 - val_acc: 0.9242\n",
            "Epoch 4/5\n",
            "4584/4584 [==============================] - 314s 69ms/step - loss: 0.0324 - acc: 0.9894 - val_loss: 0.3764 - val_acc: 0.9216\n",
            "Epoch 5/5\n",
            "4584/4584 [==============================] - 314s 69ms/step - loss: 0.0284 - acc: 0.9905 - val_loss: 0.3608 - val_acc: 0.9228\n"
          ],
          "name": "stdout"
        }
      ]
    },
    {
      "metadata": {
        "id": "T-aT6udbfLaY",
        "colab_type": "code",
        "colab": {
          "base_uri": "https://localhost:8080/",
          "height": 221
        },
        "outputId": "b4130c32-ab0b-4b04-9050-4fe55338313a"
      },
      "cell_type": "code",
      "source": [
        "model = train_Xception(train_set_path = train_set_path, val_set_path = val_set_path, validation_split = validation_split,\n",
        "                       batch_size = batch_size, horizontal_flip = horizontal_flip, rotation_range = rotation_range,\n",
        "                       model = model, epochs = epochs, target_size = target_size)"
      ],
      "execution_count": 71,
      "outputs": [
        {
          "output_type": "stream",
          "text": [
            "Found 4584 images belonging to 49 classes.\n",
            "Found 782 images belonging to 49 classes.\n",
            "Epoch 1/5\n",
            "4584/4584 [==============================] - 1013s 221ms/step - loss: 0.0027 - acc: 0.9990 - val_loss: 0.3034 - val_acc: 0.9353\n",
            "Epoch 2/5\n",
            "4584/4584 [==============================] - 1007s 220ms/step - loss: 0.0031 - acc: 0.9989 - val_loss: 0.2899 - val_acc: 0.9362\n",
            "Epoch 3/5\n",
            "4584/4584 [==============================] - 1006s 219ms/step - loss: 0.0029 - acc: 0.9990 - val_loss: 0.3120 - val_acc: 0.9304\n",
            "Epoch 4/5\n",
            "4584/4584 [==============================] - 1009s 220ms/step - loss: 0.0028 - acc: 0.9990 - val_loss: 0.3168 - val_acc: 0.9283\n",
            "Epoch 5/5\n",
            "4584/4584 [==============================] - 1011s 221ms/step - loss: 0.0029 - acc: 0.9990 - val_loss: 0.3087 - val_acc: 0.9351\n"
          ],
          "name": "stdout"
        }
      ]
    },
    {
      "metadata": {
        "id": "CWsMoMkGnFky",
        "colab_type": "code",
        "colab": {
          "base_uri": "https://localhost:8080/",
          "height": 85
        },
        "outputId": "190b26a8-dcf8-4d8a-bbf5-2acd7cf7b28e"
      },
      "cell_type": "code",
      "source": [
        "model = train_Xception(train_set_path = train_set_path, val_set_path = val_set_path, validation_split = validation_split,\n",
        "                       batch_size = batch_size, horizontal_flip = horizontal_flip, rotation_range = rotation_range,\n",
        "                       model = model, epochs = epochs, target_size = target_size)"
      ],
      "execution_count": 83,
      "outputs": [
        {
          "output_type": "stream",
          "text": [
            "Found 4584 images belonging to 49 classes.\n",
            "Found 782 images belonging to 49 classes.\n",
            "[0.026233947051729715, 0.9885204081632653]\n",
            "[0.3375312190983565, 0.9361290322580645]\n"
          ],
          "name": "stdout"
        }
      ]
    },
    {
      "metadata": {
        "id": "S4C5Mzp37VQu",
        "colab_type": "code",
        "colab": {
          "base_uri": "https://localhost:8080/",
          "height": 187
        },
        "outputId": "23b3e808-a3ad-409f-ea05-308a47e081ed"
      },
      "cell_type": "code",
      "source": [
        "model = train_Xception(train_set_path = train_set_path, val_set_path = val_set_path, validation_split = validation_split,\n",
        "                       batch_size = batch_size, horizontal_flip = horizontal_flip, rotation_range = rotation_range,\n",
        "                       model = model, epochs = epochs, target_size = target_size)"
      ],
      "execution_count": 86,
      "outputs": [
        {
          "output_type": "stream",
          "text": [
            "Found 4584 images belonging to 49 classes.\n",
            "Found 782 images belonging to 49 classes.\n",
            "Epoch 1/3\n",
            "4584/4584 [==============================] - 1936s 422ms/step - loss: 0.0019 - acc: 0.9992 - val_loss: 0.3447 - val_acc: 0.9283\n",
            "Epoch 2/3\n",
            "4584/4584 [==============================] - 1933s 422ms/step - loss: 0.0018 - acc: 0.9992 - val_loss: 0.3229 - val_acc: 0.9283\n",
            "Epoch 3/3\n",
            "4584/4584 [==============================] - 1940s 423ms/step - loss: 0.0017 - acc: 0.9992 - val_loss: 0.3191 - val_acc: 0.9294\n",
            "[0.04359548127222854, 0.9853316326530612]\n",
            "[0.29695101992973527, 0.9366485011187821]\n"
          ],
          "name": "stdout"
        }
      ]
    },
    {
      "metadata": {
        "id": "MPY9E9Aw8AAn",
        "colab_type": "code",
        "colab": {
          "base_uri": "https://localhost:8080/",
          "height": 85
        },
        "outputId": "d871d91b-8ac9-4521-c04c-939e06b2bc8e"
      },
      "cell_type": "code",
      "source": [
        "model = train_Xception(train_set_path = train_set_path, val_set_path = val_set_path, validation_split = validation_split,\n",
        "                       batch_size = batch_size, horizontal_flip = horizontal_flip, rotation_range = rotation_range,\n",
        "                       model = model, epochs = epochs, target_size = target_size)"
      ],
      "execution_count": 0,
      "outputs": [
        {
          "output_type": "stream",
          "text": [
            "Found 4584 images belonging to 49 classes.\n",
            "Found 782 images belonging to 49 classes.\n",
            "Epoch 1/3\n",
            " 253/4584 [>.............................] - ETA: 27:17 - loss: 0.0020 - acc: 0.9992"
          ],
          "name": "stdout"
        }
      ]
    },
    {
      "metadata": {
        "id": "uJNFTTkOTv8B",
        "colab_type": "code",
        "colab": {}
      },
      "cell_type": "code",
      "source": [
        ""
      ],
      "execution_count": 0,
      "outputs": []
    }
  ]
}