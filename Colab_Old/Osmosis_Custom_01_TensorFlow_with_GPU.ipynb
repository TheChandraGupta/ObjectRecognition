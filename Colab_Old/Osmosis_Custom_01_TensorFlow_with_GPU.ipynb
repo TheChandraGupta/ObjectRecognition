{
  "nbformat": 4,
  "nbformat_minor": 0,
  "metadata": {
    "colab": {
      "name": "TensorFlow with GPU",
      "version": "0.3.2",
      "provenance": [],
      "collapsed_sections": [],
      "toc_visible": true,
      "include_colab_link": true
    },
    "kernelspec": {
      "name": "python3",
      "display_name": "Python 3"
    },
    "accelerator": "GPU"
  },
  "cells": [
    {
      "cell_type": "markdown",
      "metadata": {
        "id": "view-in-github",
        "colab_type": "text"
      },
      "source": [
        "<a href=\"https://colab.research.google.com/github/thegreatgupta/ObjectRecognition/blob/master/Osmosis_Custom_01_TensorFlow_with_GPU.ipynb\" target=\"_parent\"><img src=\"https://colab.research.google.com/assets/colab-badge.svg\" alt=\"Open In Colab\"/></a>"
      ]
    },
    {
      "metadata": {
        "colab_type": "text",
        "id": "BlmQIFSLZDdc"
      },
      "cell_type": "markdown",
      "source": [
        "# Confirm TensorFlow can see the GPU\n",
        "\n",
        "Simply select \"GPU\" in the Accelerator drop-down in Notebook Settings (either through the Edit menu or the command palette at cmd/ctrl-shift-P)."
      ]
    },
    {
      "metadata": {
        "colab_type": "code",
        "id": "3IEVK-KFxi5Z",
        "outputId": "64364b23-d371-42d3-9cb4-bcc4416d4574",
        "colab": {
          "base_uri": "https://localhost:8080/",
          "height": 34
        }
      },
      "cell_type": "code",
      "source": [
        "import tensorflow as tf\n",
        "device_name = tf.test.gpu_device_name()\n",
        "if device_name != '/device:GPU:0':\n",
        "  raise SystemError('GPU device not found')\n",
        "print('Found GPU at: {}'.format(device_name))"
      ],
      "execution_count": 1,
      "outputs": [
        {
          "output_type": "stream",
          "text": [
            "Found GPU at: /device:GPU:0\n"
          ],
          "name": "stdout"
        }
      ]
    },
    {
      "metadata": {
        "colab_type": "text",
        "id": "QXRh0DPiZRyG"
      },
      "cell_type": "markdown",
      "source": [
        "# Observe TensorFlow speedup on GPU relative to CPU\n",
        "\n",
        "This example constructs a typical convolutional neural network layer over a\n",
        "random image and manually places the resulting ops on either the CPU or the GPU\n",
        "to compare execution speed."
      ]
    },
    {
      "metadata": {
        "colab_type": "code",
        "id": "t9ALbbpmY9rm",
        "outputId": "4284ac93-ea5b-49c5-9332-54e556081909",
        "colab": {
          "base_uri": "https://localhost:8080/",
          "height": 119
        }
      },
      "cell_type": "code",
      "source": [
        "import tensorflow as tf\n",
        "import timeit\n",
        "\n",
        "# See https://www.tensorflow.org/tutorials/using_gpu#allowing_gpu_memory_growth\n",
        "config = tf.ConfigProto()\n",
        "config.gpu_options.allow_growth = True\n",
        "\n",
        "with tf.device('/cpu:0'):\n",
        "  random_image_cpu = tf.random_normal((100, 100, 100, 3))\n",
        "  net_cpu = tf.layers.conv2d(random_image_cpu, 32, 7)\n",
        "  net_cpu = tf.reduce_sum(net_cpu)\n",
        "\n",
        "with tf.device('/gpu:0'):\n",
        "  random_image_gpu = tf.random_normal((100, 100, 100, 3))\n",
        "  net_gpu = tf.layers.conv2d(random_image_gpu, 32, 7)\n",
        "  net_gpu = tf.reduce_sum(net_gpu)\n",
        "\n",
        "sess = tf.Session(config=config)\n",
        "\n",
        "# Test execution once to detect errors early.\n",
        "try:\n",
        "  sess.run(tf.global_variables_initializer())\n",
        "except tf.errors.InvalidArgumentError:\n",
        "  print(\n",
        "      '\\n\\nThis error most likely means that this notebook is not '\n",
        "      'configured to use a GPU.  Change this in Notebook Settings via the '\n",
        "      'command palette (cmd/ctrl-shift-P) or the Edit menu.\\n\\n')\n",
        "  raise\n",
        "\n",
        "def cpu():\n",
        "  sess.run(net_cpu)\n",
        "  \n",
        "def gpu():\n",
        "  sess.run(net_gpu)\n",
        "  \n",
        "# Runs the op several times.\n",
        "print('Time (s) to convolve 32x7x7x3 filter over random 100x100x100x3 images '\n",
        "      '(batch x height x width x channel). Sum of ten runs.')\n",
        "print('CPU (s):')\n",
        "cpu_time = timeit.timeit('cpu()', number=10, setup=\"from __main__ import cpu\")\n",
        "print(cpu_time)\n",
        "print('GPU (s):')\n",
        "gpu_time = timeit.timeit('gpu()', number=10, setup=\"from __main__ import gpu\")\n",
        "print(gpu_time)\n",
        "print('GPU speedup over CPU: {}x'.format(int(cpu_time/gpu_time)))\n",
        "\n",
        "sess.close()"
      ],
      "execution_count": 3,
      "outputs": [
        {
          "output_type": "stream",
          "text": [
            "Time (s) to convolve 32x7x7x3 filter over random 100x100x100x3 images (batch x height x width x channel). Sum of ten runs.\n",
            "CPU (s):\n",
            "9.882636085000058\n",
            "GPU (s):\n",
            "0.18773340600000665\n",
            "GPU speedup over CPU: 52x\n"
          ],
          "name": "stdout"
        }
      ]
    },
    {
      "metadata": {
        "id": "GO3sqkl_OSPj",
        "colab_type": "code",
        "colab": {}
      },
      "cell_type": "code",
      "source": [
        "import tarfile"
      ],
      "execution_count": 0,
      "outputs": []
    },
    {
      "metadata": {
        "id": "ImN5tYJgPGHJ",
        "colab_type": "code",
        "colab": {}
      },
      "cell_type": "code",
      "source": [
        "tar = tarfile.open(\"object-classification-dataset.tar\")"
      ],
      "execution_count": 0,
      "outputs": []
    },
    {
      "metadata": {
        "id": "CRui2MLLPIGm",
        "colab_type": "code",
        "colab": {}
      },
      "cell_type": "code",
      "source": [
        "tar.extractall()"
      ],
      "execution_count": 0,
      "outputs": []
    },
    {
      "metadata": {
        "id": "l-utfnsbPIYp",
        "colab_type": "code",
        "colab": {}
      },
      "cell_type": "code",
      "source": [
        "tar.close()"
      ],
      "execution_count": 0,
      "outputs": []
    },
    {
      "metadata": {
        "id": "PM97xo3HbhVQ",
        "colab_type": "code",
        "colab": {
          "base_uri": "https://localhost:8080/",
          "height": 34
        },
        "outputId": "908b5e1a-f7c9-4f8a-e264-f060363e3dd1"
      },
      "cell_type": "code",
      "source": [
        "import pandas as pd\n",
        "import numpy as np\n",
        "import os\n",
        "import keras\n",
        "import matplotlib.pyplot as plt\n",
        "#from keras.applications.xception import Xception\n",
        "#from keras.applications.resnet50 import ResNet50\n",
        "from keras.applications.mobilenet import MobileNet, preprocess_input\n",
        "from keras.applications.imagenet_utils import decode_predictions\n",
        "from keras.layers import Dense,GlobalAveragePooling2D\n",
        "from keras.preprocessing import image\n",
        "from keras.preprocessing.image import ImageDataGenerator, load_img, img_to_array\n",
        "from keras.models import Model, load_model, Sequential\n",
        "from keras.layers import Conv2D, MaxPool2D, Flatten, Dropout\n",
        "from keras.optimizers import Adam\n",
        "\n",
        "training_set = None"
      ],
      "execution_count": 5,
      "outputs": [
        {
          "output_type": "stream",
          "text": [
            "Using TensorFlow backend.\n"
          ],
          "name": "stderr"
        }
      ]
    },
    {
      "metadata": {
        "id": "qz24FNC8bj0j",
        "colab_type": "code",
        "colab": {}
      },
      "cell_type": "code",
      "source": [
        "def create_new_model(img_shape=(299, 299, 3), n_classes=50):\n",
        "    model = Sequential()\n",
        "    #model.add(Conv2D(200,kernel_size=(3,3),activation='relu',input_shape=(150,150,3)))\n",
        "    model.add(Conv2D(50,kernel_size=(3,3),activation='relu',input_shape=(100,100,3)))\n",
        "    model.add(Conv2D(100,kernel_size=(3,3),activation='relu'))\n",
        "    model.add(MaxPool2D(4,4))\n",
        "    model.add(Conv2D(100,kernel_size=(3,3),activation='relu'))\n",
        "    model.add(Conv2D(100,kernel_size=(3,3),activation='relu'))\n",
        "    model.add(Conv2D(80,kernel_size=(3,3),activation='relu'))\n",
        "    model.add(Conv2D(50,kernel_size=(3,3),activation='relu'))\n",
        "    model.add(MaxPool2D(4,4))\n",
        "    #model.add(GlobalAveragePooling2D())\n",
        "    model.add(Flatten())\n",
        "    model.add(Dense(100,activation='relu'))\n",
        "    model.add(Dropout(rate=0.5))\n",
        "    model.add(Dense(100,activation='relu'))\n",
        "    model.add(Dense(100,activation='relu'))\n",
        "    model.add(Dropout(rate=0.5))\n",
        "    model.add(Dense(n_classes,activation='softmax'))\n",
        "    return model\n",
        "\n",
        "def create_model(img_shape=(299, 299, 3), n_classes=50,\n",
        "                   load_pretrained=False, freeze_layers_from='base_model', new_model = False):\n",
        "    \n",
        "    if new_model:\n",
        "        return create_new_model(img_shape, n_classes)\n",
        "    \n",
        "    # Decide if load pretrained weights from imagenet\n",
        "    if load_pretrained:\n",
        "        weights = 'imagenet'\n",
        "    else:\n",
        "        weights = None\n",
        "\n",
        "    # Get base model\n",
        "    #base_model = Xception(include_top=False, weights=weights,\n",
        "                       #input_tensor=None, input_shape=img_shape)\n",
        "    \n",
        "    #base_model = ResNet50(include_top=False, weights=weights,\n",
        "                       #input_tensor=None, input_shape=img_shape)\n",
        "    \n",
        "    base_model = MobileNet(include_top=False, weights=weights,\n",
        "                       input_tensor=None, input_shape=img_shape)\n",
        "\n",
        "    # Add final layers\n",
        "    x = base_model.output\n",
        "    x = Dense(n_classes, activation='relu')(x)\n",
        "    x = GlobalAveragePooling2D()(x)\n",
        "    predictions = Dense(n_classes, activation='softmax')(x)\n",
        "\n",
        "    # This is the model we will train\n",
        "    model = Model(input=base_model.input, output=predictions)\n",
        "    \n",
        "    # Model Summary\n",
        "    # print(model.summary())\n",
        "    \n",
        "    # Freeze some layers\n",
        "    if freeze_layers_from is not None:\n",
        "        if freeze_layers_from == 'base_model':\n",
        "            print ('   Freezing base model layers')\n",
        "            for layer in base_model.layers:\n",
        "                layer.trainable = False\n",
        "        else:\n",
        "            for i, layer in enumerate(model.layers):\n",
        "                print(i, layer.name)\n",
        "            print ('   Freezing from layer 0 to ' + str(freeze_layers_from))\n",
        "            for layer in model.layers[:freeze_layers_from]:\n",
        "               layer.trainable = False\n",
        "            for layer in model.layers[freeze_layers_from:]:\n",
        "               layer.trainable = True\n",
        "\n",
        "    print(model.summary())\n",
        "    return model"
      ],
      "execution_count": 0,
      "outputs": []
    },
    {
      "metadata": {
        "id": "Tw4LCO5CbnBS",
        "colab_type": "code",
        "colab": {}
      },
      "cell_type": "code",
      "source": [
        "def train_model(train_set_path, val_set_path, validation_split = 0.2,\n",
        "                   batch_size = 32, class_mode = 'categorical', horizontal_flip = False,\n",
        "                   vertical_flip = False, rotation_range = None, target_size = (299, 299),\n",
        "                   model = None, epochs = 1, learning_rate = 0.0001, loss = 'categorical_crossentropy',\n",
        "\t\t\t\t   n_classes=50):\n",
        "    \n",
        "    # Load Image Data Set Using Keras\n",
        "    train_datagen = ImageDataGenerator(rescale = 1./255,\n",
        "                                   shear_range = 0.2,\n",
        "                                   zoom_range = 0.2,\n",
        "                                   horizontal_flip = horizontal_flip,\n",
        "                                   vertical_flip = vertical_flip,\n",
        "                                   rotation_range=rotation_range,\n",
        "                                   validation_split=validation_split)\n",
        "    \n",
        "    training_set = train_datagen.flow_from_directory(train_set_path,\n",
        "                                                 target_size = target_size,\n",
        "                                                 batch_size = batch_size,\n",
        "                                                 class_mode = class_mode,\n",
        "                                                 subset = 'training')\n",
        "    \n",
        "    validation_set = train_datagen.flow_from_directory(val_set_path,\n",
        "                                                 target_size = target_size,\n",
        "                                                 batch_size = batch_size,\n",
        "                                                 class_mode = class_mode,\n",
        "                                                 subset = 'validation')\n",
        "        \n",
        "    # Compile Model\n",
        "    # opt_rms = keras.optimizers.rmsprop(lr=learning_rate,decay=1e-6)\n",
        "    adam_optimizer = Adam(lr = learning_rate)\n",
        "    model.compile(optimizer = adam_optimizer, loss = loss, metrics = ['accuracy'])\n",
        "    \n",
        "    model.fit_generator(training_set,\n",
        "                        steps_per_epoch = training_set.samples,\n",
        "                        epochs = epochs,\n",
        "                        validation_data = validation_set,\n",
        "                        validation_steps = validation_set.samples)\n",
        "        \n",
        "    model.evaluate_generator(training_set, n_classes)\n",
        "    model.evaluate_generator(validation_set, n_classes)\n",
        "    \n",
        "    return model"
      ],
      "execution_count": 0,
      "outputs": []
    },
    {
      "metadata": {
        "id": "iYffUFt4br42",
        "colab_type": "code",
        "colab": {}
      },
      "cell_type": "code",
      "source": [
        "def model_initialization():\n",
        "\t# Declare Constants\n",
        "\timg_shape = (100, 100, 3)\n",
        "\ttarget_size = (100, 100)\n",
        "\tn_classes = 49\n",
        "\tepochs = 1\n",
        "\ttrain_set_path = '101_ObjectCategories'    #dataset/training_set_test' #'101_ObjectCategories'\n",
        "\tval_set_path = train_set_path\n",
        "\tvalidation_split = 0.15\n",
        "\tbatch_size = 1\n",
        "\thorizontal_flip = True\n",
        "\trotation_range = None\n",
        "\tlearning_rate = 0.0003\n",
        "\tloss = 'categorical_crossentropy'\n",
        "\n",
        "\t# Build Model\n",
        "\t#model = create_model(img_shape = img_shape,  n_classes = n_classes, load_pretrained = True)\n",
        "\tmodel = create_model(img_shape = img_shape,  n_classes = n_classes, load_pretrained = True, new_model= True)\n",
        "\n",
        "    #model = load_model('mobilenet_ooo3_015_10_16_model_2')\n",
        "\t#model.load_weights('mobilenet_ooo3_015_10_16_2.h5')\n",
        "\n",
        "\t# Train the Model\n",
        "\tmodel = train_model(train_set_path = train_set_path, val_set_path = val_set_path, validation_split = validation_split,\n",
        "\t\t\t\t\t\t   batch_size = batch_size, horizontal_flip = horizontal_flip, rotation_range = rotation_range,\n",
        "\t\t\t\t\t\t   model = model, epochs = epochs, target_size = target_size, learning_rate = learning_rate,\n",
        "                           loss = loss, n_classes = n_classes)\n",
        "\n",
        "\tmodel.save_weights('weight_custom_01.h5')\n",
        "\tmodel.save('model_custom_01')\n",
        "\tjson_string = model.to_json()\n",
        "\tf = open('json_custom_model.json', 'w+')\n",
        "\tf.write(json_string)\n",
        "\tf.close()"
      ],
      "execution_count": 0,
      "outputs": []
    },
    {
      "metadata": {
        "id": "Mxdwy7-NpSCl",
        "colab_type": "code",
        "colab": {}
      },
      "cell_type": "code",
      "source": [
        "model_initialization()"
      ],
      "execution_count": 0,
      "outputs": []
    }
  ]
}