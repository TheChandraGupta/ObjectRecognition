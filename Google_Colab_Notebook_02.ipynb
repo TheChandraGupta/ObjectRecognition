{
  "nbformat": 4,
  "nbformat_minor": 0,
  "metadata": {
    "colab": {
      "name": "TensorFlow with GPU",
      "version": "0.3.2",
      "provenance": [],
      "collapsed_sections": [],
      "toc_visible": true,
      "include_colab_link": true
    },
    "kernelspec": {
      "name": "python3",
      "display_name": "Python 3"
    },
    "accelerator": "GPU"
  },
  "cells": [
    {
      "cell_type": "markdown",
      "metadata": {
        "id": "view-in-github",
        "colab_type": "text"
      },
      "source": [
        "<a href=\"https://colab.research.google.com/github/thegreatgupta/ObjectRecognition/blob/master/Google_Colab_Notebook_02.ipynb\" target=\"_parent\"><img src=\"https://colab.research.google.com/assets/colab-badge.svg\" alt=\"Open In Colab\"/></a>"
      ]
    },
    {
      "metadata": {
        "colab_type": "text",
        "id": "BlmQIFSLZDdc"
      },
      "cell_type": "markdown",
      "source": [
        "# Confirm TensorFlow can see the GPU\n",
        "\n",
        "Simply select \"GPU\" in the Accelerator drop-down in Notebook Settings (either through the Edit menu or the command palette at cmd/ctrl-shift-P)."
      ]
    },
    {
      "metadata": {
        "colab_type": "code",
        "id": "3IEVK-KFxi5Z",
        "outputId": "c2eeb7da-8c63-4eb8-e9f8-bdae4485872b",
        "colab": {
          "base_uri": "https://localhost:8080/",
          "height": 34
        }
      },
      "cell_type": "code",
      "source": [
        "import tensorflow as tf\n",
        "device_name = tf.test.gpu_device_name()\n",
        "if device_name != '/device:GPU:0':\n",
        "  raise SystemError('GPU device not found')\n",
        "print('Found GPU at: {}'.format(device_name))"
      ],
      "execution_count": 2,
      "outputs": [
        {
          "output_type": "stream",
          "text": [
            "Found GPU at: /device:GPU:0\n"
          ],
          "name": "stdout"
        }
      ]
    },
    {
      "metadata": {
        "colab_type": "text",
        "id": "QXRh0DPiZRyG"
      },
      "cell_type": "markdown",
      "source": [
        "# Observe TensorFlow speedup on GPU relative to CPU\n",
        "\n",
        "This example constructs a typical convolutional neural network layer over a\n",
        "random image and manually places the resulting ops on either the CPU or the GPU\n",
        "to compare execution speed."
      ]
    },
    {
      "metadata": {
        "colab_type": "code",
        "id": "t9ALbbpmY9rm",
        "outputId": "69577fc8-0329-43fc-fd0a-a8d763b8ba80",
        "colab": {
          "base_uri": "https://localhost:8080/",
          "height": 139
        }
      },
      "cell_type": "code",
      "source": [
        "import tensorflow as tf\n",
        "import timeit\n",
        "\n",
        "# See https://www.tensorflow.org/tutorials/using_gpu#allowing_gpu_memory_growth\n",
        "config = tf.ConfigProto()\n",
        "config.gpu_options.allow_growth = True\n",
        "\n",
        "with tf.device('/cpu:0'):\n",
        "  random_image_cpu = tf.random_normal((100, 100, 100, 3))\n",
        "  net_cpu = tf.layers.conv2d(random_image_cpu, 32, 7)\n",
        "  net_cpu = tf.reduce_sum(net_cpu)\n",
        "\n",
        "with tf.device('/gpu:0'):\n",
        "  random_image_gpu = tf.random_normal((100, 100, 100, 3))\n",
        "  net_gpu = tf.layers.conv2d(random_image_gpu, 32, 7)\n",
        "  net_gpu = tf.reduce_sum(net_gpu)\n",
        "\n",
        "sess = tf.Session(config=config)\n",
        "\n",
        "# Test execution once to detect errors early.\n",
        "try:\n",
        "  sess.run(tf.global_variables_initializer())\n",
        "except tf.errors.InvalidArgumentError:\n",
        "  print(\n",
        "      '\\n\\nThis error most likely means that this notebook is not '\n",
        "      'configured to use a GPU.  Change this in Notebook Settings via the '\n",
        "      'command palette (cmd/ctrl-shift-P) or the Edit menu.\\n\\n')\n",
        "  raise\n",
        "\n",
        "def cpu():\n",
        "  sess.run(net_cpu)\n",
        "  \n",
        "def gpu():\n",
        "  sess.run(net_gpu)\n",
        "  \n",
        "# Runs the op several times.\n",
        "print('Time (s) to convolve 32x7x7x3 filter over random 100x100x100x3 images '\n",
        "      '(batch x height x width x channel). Sum of ten runs.')\n",
        "print('CPU (s):')\n",
        "cpu_time = timeit.timeit('cpu()', number=10, setup=\"from __main__ import cpu\")\n",
        "print(cpu_time)\n",
        "print('GPU (s):')\n",
        "gpu_time = timeit.timeit('gpu()', number=10, setup=\"from __main__ import gpu\")\n",
        "print(gpu_time)\n",
        "print('GPU speedup over CPU: {}x'.format(int(cpu_time/gpu_time)))\n",
        "\n",
        "sess.close()"
      ],
      "execution_count": 4,
      "outputs": [
        {
          "output_type": "stream",
          "text": [
            "Time (s) to convolve 32x7x7x3 filter over random 100x100x100x3 images (batch x height x width x channel). Sum of ten runs.\n",
            "CPU (s):\n",
            "10.277564061000007\n",
            "GPU (s):\n",
            "0.1804298160000002\n",
            "GPU speedup over CPU: 56x\n"
          ],
          "name": "stdout"
        }
      ]
    },
    {
      "metadata": {
        "id": "sK7J71bGCpq7",
        "colab_type": "text"
      },
      "cell_type": "markdown",
      "source": [
        "### Clone the Object Recognition Project from Github to fetch the Dataset and Start the training."
      ]
    },
    {
      "metadata": {
        "id": "O6HVukb0CogZ",
        "colab_type": "code",
        "outputId": "a2317780-98d3-4fc1-fdb0-c1653de11b25",
        "colab": {
          "base_uri": "https://localhost:8080/",
          "height": 153
        }
      },
      "cell_type": "code",
      "source": [
        "!git clone https://github.com/thegreatgupta/ObjectRecognition.git"
      ],
      "execution_count": 5,
      "outputs": [
        {
          "output_type": "stream",
          "text": [
            "Cloning into 'ObjectRecognition'...\n",
            "remote: Enumerating objects: 6882, done.\u001b[K\n",
            "remote: Counting objects: 100% (6882/6882), done.\u001b[K\n",
            "remote: Compressing objects: 100% (6869/6869), done.\u001b[K\n",
            "remote: Total 6882 (delta 38), reused 6838 (delta 12), pack-reused 0\u001b[K\n",
            "Receiving objects: 100% (6882/6882), 123.69 MiB | 34.61 MiB/s, done.\n",
            "Resolving deltas: 100% (38/38), done.\n",
            "Checking out files: 100% (6951/6951), done.\n"
          ],
          "name": "stdout"
        }
      ]
    },
    {
      "metadata": {
        "id": "jp_Ml9ydDUKQ",
        "colab_type": "code",
        "outputId": "a527c587-fb18-46ae-e94a-b8f8dd4210d1",
        "colab": {
          "base_uri": "https://localhost:8080/",
          "height": 34
        }
      },
      "cell_type": "code",
      "source": [
        "!ls"
      ],
      "execution_count": 6,
      "outputs": [
        {
          "output_type": "stream",
          "text": [
            "ObjectRecognition  sample_data\n"
          ],
          "name": "stdout"
        }
      ]
    },
    {
      "metadata": {
        "id": "zMnSKufsDc4A",
        "colab_type": "code",
        "outputId": "e52a6083-d763-4d3c-8d56-5ba6d854f070",
        "colab": {
          "base_uri": "https://localhost:8080/",
          "height": 34
        }
      },
      "cell_type": "code",
      "source": [
        "cd ObjectRecognition"
      ],
      "execution_count": 7,
      "outputs": [
        {
          "output_type": "stream",
          "text": [
            "/content/ObjectRecognition\n"
          ],
          "name": "stdout"
        }
      ]
    },
    {
      "metadata": {
        "id": "y-649s4uDr7I",
        "colab_type": "code",
        "outputId": "a0221a34-3a26-41be-d3b5-4c1a39557701",
        "colab": {
          "base_uri": "https://localhost:8080/",
          "height": 187
        }
      },
      "cell_type": "code",
      "source": [
        "!ls dataset/training_set_test/"
      ],
      "execution_count": 8,
      "outputs": [
        {
          "output_type": "stream",
          "text": [
            "airplanes\t   crab\t\t    Faces_easy\t lamp\t     scorpion\n",
            "BACKGROUND_Google  crayfish\t    ferry\t laptop      soccer_ball\n",
            "bonsai\t\t   dalmatian\t    flamingo\t Leopards    starfish\n",
            "brain\t\t   dolphin\t    grand_piano  llama\t     stop_sign\n",
            "buddha\t\t   dragonfly\t    hawksbill\t lotus\t     sunflower\n",
            "butterfly\t   electric_guitar  helicopter\t menorah     trilobite\n",
            "car_side\t   elephant\t    ibis\t minaret     umbrella\n",
            "chair\t\t   euphonium\t    joshua_tree  Motorbikes  watch\n",
            "chandelier\t   ewer\t\t    kangaroo\t revolver    yin_yang\n",
            "cougar_face\t   Faces\t    ketch\t schooner\n"
          ],
          "name": "stdout"
        }
      ]
    },
    {
      "metadata": {
        "id": "qMAT4-3XEnt2",
        "colab_type": "text"
      },
      "cell_type": "markdown",
      "source": [
        "### Start Training the Model Using GPU"
      ]
    },
    {
      "metadata": {
        "id": "fLe8QPwIE_ec",
        "colab_type": "text"
      },
      "cell_type": "markdown",
      "source": [
        "Import Packages to the Notebook"
      ]
    },
    {
      "metadata": {
        "id": "vd1CT_T2Ee4I",
        "colab_type": "code",
        "colab": {}
      },
      "cell_type": "code",
      "source": [
        "import pandas as pd\n",
        "import numpy as np\n",
        "import os\n",
        "import keras\n",
        "import matplotlib.pyplot as plt\n",
        "#from keras.applications.xception import Xception\n",
        "#from keras.applications.resnet50 import ResNet50\n",
        "from keras.applications.mobilenet import MobileNet, preprocess_input\n",
        "from keras.applications.imagenet_utils import decode_predictions\n",
        "from keras.layers import Dense,GlobalAveragePooling2D, Dropout\n",
        "from keras.preprocessing import image\n",
        "from keras.preprocessing.image import ImageDataGenerator, load_img, img_to_array\n",
        "from keras.models import Model, load_model\n",
        "from keras.optimizers import Adam"
      ],
      "execution_count": 0,
      "outputs": []
    },
    {
      "metadata": {
        "id": "cXj3DnMWFK37",
        "colab_type": "text"
      },
      "cell_type": "markdown",
      "source": [
        "Declare Instance Variables "
      ]
    },
    {
      "metadata": {
        "id": "yWYS5NOYFHHw",
        "colab_type": "code",
        "colab": {}
      },
      "cell_type": "code",
      "source": [
        "training_set = None"
      ],
      "execution_count": 0,
      "outputs": []
    },
    {
      "metadata": {
        "id": "kP0NjzjDFWxN",
        "colab_type": "text"
      },
      "cell_type": "markdown",
      "source": [
        "Create Model Method"
      ]
    },
    {
      "metadata": {
        "id": "BQHwhi5tFRPo",
        "colab_type": "code",
        "colab": {}
      },
      "cell_type": "code",
      "source": [
        "def create_model(img_shape=(299, 299, 3), n_classes=50,\n",
        "                   load_pretrained=False, freeze_layers_from='base_model', dense_unit=100, drop_out=0.5):\n",
        "    # Decide if load pretrained weights from imagenet\n",
        "    if load_pretrained:\n",
        "        weights = 'imagenet'\n",
        "    else:\n",
        "        weights = None\n",
        "\n",
        "    # Get base model\n",
        "    #base_model = Xception(include_top=False, weights=weights,\n",
        "                       #input_tensor=None, input_shape=img_shape)\n",
        "    \n",
        "    #base_model = ResNet50(include_top=False, weights=weights,\n",
        "                       #input_tensor=None, input_shape=img_shape)\n",
        "    \n",
        "    base_model = MobileNet(include_top=False, weights=weights,\n",
        "                       input_tensor=None, input_shape=img_shape)\n",
        "\n",
        "    # Add final layers\n",
        "    x = base_model.output\n",
        "    x = GlobalAveragePooling2D()(x)\n",
        "    x = Dense(1024, activation='relu')(x)\n",
        "    x = Dense(512, activation='relu')(x)\n",
        "    x = Dropout(drop_out)(x)\n",
        "    x = Dense(512, activation='relu')(x)\n",
        "    x = Dropout(drop_out)(x)\n",
        "    predictions = Dense(n_classes, activation='softmax')(x)\n",
        "\n",
        "    # This is the model we will train\n",
        "    model = Model(input=base_model.input, output=predictions)\n",
        "    \n",
        "    # Model Summary\n",
        "    # print(model.summary())\n",
        "    \n",
        "    # Freeze some layers\n",
        "    if freeze_layers_from is not None:\n",
        "        if freeze_layers_from == 'base_model':\n",
        "            print ('   Freezing base model layers')\n",
        "            for layer in base_model.layers:\n",
        "                layer.trainable = False\n",
        "        else:\n",
        "            for i, layer in enumerate(model.layers):\n",
        "                print(i, layer.name)\n",
        "            print ('   Freezing from layer 0 to ' + str(freeze_layers_from))\n",
        "            for layer in model.layers[:freeze_layers_from]:\n",
        "               layer.trainable = False\n",
        "            for layer in model.layers[freeze_layers_from:]:\n",
        "               layer.trainable = True\n",
        "\n",
        "    print(model.summary())\n",
        "    return model"
      ],
      "execution_count": 0,
      "outputs": []
    },
    {
      "metadata": {
        "id": "GIRlQZJgFsw4",
        "colab_type": "text"
      },
      "cell_type": "markdown",
      "source": [
        "Train the Model"
      ]
    },
    {
      "metadata": {
        "id": "tZZPP0ksFpQg",
        "colab_type": "code",
        "colab": {}
      },
      "cell_type": "code",
      "source": [
        "def train_model(train_set_path, val_set_path, validation_split = 0.2,\n",
        "                   batch_size = 32, class_mode = 'categorical', horizontal_flip = False,\n",
        "                   vertical_flip = False, rotation_range = None, target_size = (299, 299),\n",
        "                   model = None, epochs = 1, learning_rate = 0.0001, loss = 'categorical_crossentropy',\n",
        "\t\t\t\t   n_classes=50):\n",
        "    \n",
        "    # Load Image Data Set Using Keras\n",
        "    train_datagen = ImageDataGenerator(rescale = 1./255,\n",
        "                                   shear_range = 0.2,\n",
        "                                   zoom_range = 0.2,\n",
        "                                   horizontal_flip = horizontal_flip,\n",
        "                                   vertical_flip = vertical_flip,\n",
        "                                   rotation_range=rotation_range,\n",
        "                                   validation_split=validation_split)\n",
        "    \n",
        "    training_set = train_datagen.flow_from_directory(train_set_path,\n",
        "                                                 target_size = target_size,\n",
        "                                                 batch_size = batch_size,\n",
        "                                                 class_mode = class_mode,\n",
        "                                                 subset = 'training')\n",
        "    \n",
        "    validation_set = train_datagen.flow_from_directory(val_set_path,\n",
        "                                                 target_size = target_size,\n",
        "                                                 batch_size = batch_size,\n",
        "                                                 class_mode = class_mode,\n",
        "                                                 subset = 'validation')\n",
        "        \n",
        "    # Compile Model\n",
        "    # opt_rms = keras.optimizers.rmsprop(lr=learning_rate,decay=1e-6)\n",
        "    adam_optimizer = Adam(lr = learning_rate)\n",
        "    model.compile(optimizer = adam_optimizer, loss = loss, metrics = ['accuracy'])\n",
        "    \n",
        "    model.fit_generator(training_set,\n",
        "                        steps_per_epoch = training_set.samples,\n",
        "                        epochs = epochs,\n",
        "                        validation_data = validation_set,\n",
        "                        validation_steps = validation_set.samples)\n",
        "        \n",
        "    model.evaluate_generator(training_set, n_classes)\n",
        "    model.evaluate_generator(validation_set, n_classes)\n",
        "    \n",
        "    return model"
      ],
      "execution_count": 0,
      "outputs": []
    },
    {
      "metadata": {
        "id": "le4sxYOOGP4N",
        "colab_type": "text"
      },
      "cell_type": "markdown",
      "source": [
        "Model Initialization Method to Create and Train the Model on the dataset"
      ]
    },
    {
      "metadata": {
        "id": "9WQ26RoFFxMw",
        "colab_type": "code",
        "colab": {}
      },
      "cell_type": "code",
      "source": [
        "def model_initialization():\n",
        "\t# Declare Constants\n",
        "\timg_shape = (128, 128, 3)\n",
        "\ttarget_size = (128, 128)\n",
        "\tn_classes = 49\n",
        "\tepochs = 20\n",
        "\ttrain_set_path = 'dataset/training_set_test' #'101_ObjectCategories'\n",
        "\tval_set_path = train_set_path\n",
        "\tvalidation_split = 0.15\n",
        "\tbatch_size = 16\n",
        "\thorizontal_flip = True\n",
        "\trotation_range = None\n",
        "\tlearning_rate = 0.0003\n",
        "\tloss = 'categorical_crossentropy'\n",
        "\n",
        "\t# Build Model\n",
        "\tmodel = create_model(img_shape = img_shape,  n_classes = n_classes, load_pretrained = True)\n",
        "\n",
        "    #model = load_model('mobilenet_ooo3_015_10_16_model_2')\n",
        "\t#model.load_weights('mobilenet_ooo3_015_10_16_2.h5')\n",
        "\n",
        "\t# Train the Model\n",
        "\tmodel = train_model(train_set_path = train_set_path, val_set_path = val_set_path, validation_split = validation_split,\n",
        "\t\t\t\t\t\t   batch_size = batch_size, horizontal_flip = horizontal_flip, rotation_range = rotation_range,\n",
        "\t\t\t\t\t\t   model = model, epochs = epochs, target_size = target_size, learning_rate = learning_rate,\n",
        "                           loss = loss, n_classes = n_classes)\n",
        "\n",
        "\tmodel.save_weights('weight_03.h5')\n",
        "\tmodel.save('model_03')\n",
        "\tjson_string = model.to_json()\n",
        "\tf = open('json_model_03.json', 'w+')\n",
        "\tf.write(json_string)\n",
        "\tf.close()"
      ],
      "execution_count": 0,
      "outputs": []
    },
    {
      "metadata": {
        "id": "wwZyRKBqGh_O",
        "colab_type": "text"
      },
      "cell_type": "markdown",
      "source": [
        "Call Model Initialization Method to start"
      ]
    },
    {
      "metadata": {
        "id": "m4fauFt8Gclo",
        "colab_type": "code",
        "colab": {
          "base_uri": "https://localhost:8080/",
          "height": 4303
        },
        "outputId": "ef425a48-8313-4869-9eea-77c278c68946"
      },
      "cell_type": "code",
      "source": [
        "model_initialization()"
      ],
      "execution_count": 31,
      "outputs": [
        {
          "output_type": "stream",
          "text": [
            "/usr/local/lib/python3.6/dist-packages/ipykernel_launcher.py:30: UserWarning: Update your `Model` call to the Keras 2 API: `Model(inputs=Tensor(\"in..., outputs=Tensor(\"de...)`\n"
          ],
          "name": "stderr"
        },
        {
          "output_type": "stream",
          "text": [
            "   Freezing base model layers\n",
            "_________________________________________________________________\n",
            "Layer (type)                 Output Shape              Param #   \n",
            "=================================================================\n",
            "input_4 (InputLayer)         (None, 128, 128, 3)       0         \n",
            "_________________________________________________________________\n",
            "conv1_pad (ZeroPadding2D)    (None, 129, 129, 3)       0         \n",
            "_________________________________________________________________\n",
            "conv1 (Conv2D)               (None, 64, 64, 32)        864       \n",
            "_________________________________________________________________\n",
            "conv1_bn (BatchNormalization (None, 64, 64, 32)        128       \n",
            "_________________________________________________________________\n",
            "conv1_relu (ReLU)            (None, 64, 64, 32)        0         \n",
            "_________________________________________________________________\n",
            "conv_dw_1 (DepthwiseConv2D)  (None, 64, 64, 32)        288       \n",
            "_________________________________________________________________\n",
            "conv_dw_1_bn (BatchNormaliza (None, 64, 64, 32)        128       \n",
            "_________________________________________________________________\n",
            "conv_dw_1_relu (ReLU)        (None, 64, 64, 32)        0         \n",
            "_________________________________________________________________\n",
            "conv_pw_1 (Conv2D)           (None, 64, 64, 64)        2048      \n",
            "_________________________________________________________________\n",
            "conv_pw_1_bn (BatchNormaliza (None, 64, 64, 64)        256       \n",
            "_________________________________________________________________\n",
            "conv_pw_1_relu (ReLU)        (None, 64, 64, 64)        0         \n",
            "_________________________________________________________________\n",
            "conv_pad_2 (ZeroPadding2D)   (None, 65, 65, 64)        0         \n",
            "_________________________________________________________________\n",
            "conv_dw_2 (DepthwiseConv2D)  (None, 32, 32, 64)        576       \n",
            "_________________________________________________________________\n",
            "conv_dw_2_bn (BatchNormaliza (None, 32, 32, 64)        256       \n",
            "_________________________________________________________________\n",
            "conv_dw_2_relu (ReLU)        (None, 32, 32, 64)        0         \n",
            "_________________________________________________________________\n",
            "conv_pw_2 (Conv2D)           (None, 32, 32, 128)       8192      \n",
            "_________________________________________________________________\n",
            "conv_pw_2_bn (BatchNormaliza (None, 32, 32, 128)       512       \n",
            "_________________________________________________________________\n",
            "conv_pw_2_relu (ReLU)        (None, 32, 32, 128)       0         \n",
            "_________________________________________________________________\n",
            "conv_dw_3 (DepthwiseConv2D)  (None, 32, 32, 128)       1152      \n",
            "_________________________________________________________________\n",
            "conv_dw_3_bn (BatchNormaliza (None, 32, 32, 128)       512       \n",
            "_________________________________________________________________\n",
            "conv_dw_3_relu (ReLU)        (None, 32, 32, 128)       0         \n",
            "_________________________________________________________________\n",
            "conv_pw_3 (Conv2D)           (None, 32, 32, 128)       16384     \n",
            "_________________________________________________________________\n",
            "conv_pw_3_bn (BatchNormaliza (None, 32, 32, 128)       512       \n",
            "_________________________________________________________________\n",
            "conv_pw_3_relu (ReLU)        (None, 32, 32, 128)       0         \n",
            "_________________________________________________________________\n",
            "conv_pad_4 (ZeroPadding2D)   (None, 33, 33, 128)       0         \n",
            "_________________________________________________________________\n",
            "conv_dw_4 (DepthwiseConv2D)  (None, 16, 16, 128)       1152      \n",
            "_________________________________________________________________\n",
            "conv_dw_4_bn (BatchNormaliza (None, 16, 16, 128)       512       \n",
            "_________________________________________________________________\n",
            "conv_dw_4_relu (ReLU)        (None, 16, 16, 128)       0         \n",
            "_________________________________________________________________\n",
            "conv_pw_4 (Conv2D)           (None, 16, 16, 256)       32768     \n",
            "_________________________________________________________________\n",
            "conv_pw_4_bn (BatchNormaliza (None, 16, 16, 256)       1024      \n",
            "_________________________________________________________________\n",
            "conv_pw_4_relu (ReLU)        (None, 16, 16, 256)       0         \n",
            "_________________________________________________________________\n",
            "conv_dw_5 (DepthwiseConv2D)  (None, 16, 16, 256)       2304      \n",
            "_________________________________________________________________\n",
            "conv_dw_5_bn (BatchNormaliza (None, 16, 16, 256)       1024      \n",
            "_________________________________________________________________\n",
            "conv_dw_5_relu (ReLU)        (None, 16, 16, 256)       0         \n",
            "_________________________________________________________________\n",
            "conv_pw_5 (Conv2D)           (None, 16, 16, 256)       65536     \n",
            "_________________________________________________________________\n",
            "conv_pw_5_bn (BatchNormaliza (None, 16, 16, 256)       1024      \n",
            "_________________________________________________________________\n",
            "conv_pw_5_relu (ReLU)        (None, 16, 16, 256)       0         \n",
            "_________________________________________________________________\n",
            "conv_pad_6 (ZeroPadding2D)   (None, 17, 17, 256)       0         \n",
            "_________________________________________________________________\n",
            "conv_dw_6 (DepthwiseConv2D)  (None, 8, 8, 256)         2304      \n",
            "_________________________________________________________________\n",
            "conv_dw_6_bn (BatchNormaliza (None, 8, 8, 256)         1024      \n",
            "_________________________________________________________________\n",
            "conv_dw_6_relu (ReLU)        (None, 8, 8, 256)         0         \n",
            "_________________________________________________________________\n",
            "conv_pw_6 (Conv2D)           (None, 8, 8, 512)         131072    \n",
            "_________________________________________________________________\n",
            "conv_pw_6_bn (BatchNormaliza (None, 8, 8, 512)         2048      \n",
            "_________________________________________________________________\n",
            "conv_pw_6_relu (ReLU)        (None, 8, 8, 512)         0         \n",
            "_________________________________________________________________\n",
            "conv_dw_7 (DepthwiseConv2D)  (None, 8, 8, 512)         4608      \n",
            "_________________________________________________________________\n",
            "conv_dw_7_bn (BatchNormaliza (None, 8, 8, 512)         2048      \n",
            "_________________________________________________________________\n",
            "conv_dw_7_relu (ReLU)        (None, 8, 8, 512)         0         \n",
            "_________________________________________________________________\n",
            "conv_pw_7 (Conv2D)           (None, 8, 8, 512)         262144    \n",
            "_________________________________________________________________\n",
            "conv_pw_7_bn (BatchNormaliza (None, 8, 8, 512)         2048      \n",
            "_________________________________________________________________\n",
            "conv_pw_7_relu (ReLU)        (None, 8, 8, 512)         0         \n",
            "_________________________________________________________________\n",
            "conv_dw_8 (DepthwiseConv2D)  (None, 8, 8, 512)         4608      \n",
            "_________________________________________________________________\n",
            "conv_dw_8_bn (BatchNormaliza (None, 8, 8, 512)         2048      \n",
            "_________________________________________________________________\n",
            "conv_dw_8_relu (ReLU)        (None, 8, 8, 512)         0         \n",
            "_________________________________________________________________\n",
            "conv_pw_8 (Conv2D)           (None, 8, 8, 512)         262144    \n",
            "_________________________________________________________________\n",
            "conv_pw_8_bn (BatchNormaliza (None, 8, 8, 512)         2048      \n",
            "_________________________________________________________________\n",
            "conv_pw_8_relu (ReLU)        (None, 8, 8, 512)         0         \n",
            "_________________________________________________________________\n",
            "conv_dw_9 (DepthwiseConv2D)  (None, 8, 8, 512)         4608      \n",
            "_________________________________________________________________\n",
            "conv_dw_9_bn (BatchNormaliza (None, 8, 8, 512)         2048      \n",
            "_________________________________________________________________\n",
            "conv_dw_9_relu (ReLU)        (None, 8, 8, 512)         0         \n",
            "_________________________________________________________________\n",
            "conv_pw_9 (Conv2D)           (None, 8, 8, 512)         262144    \n",
            "_________________________________________________________________\n",
            "conv_pw_9_bn (BatchNormaliza (None, 8, 8, 512)         2048      \n",
            "_________________________________________________________________\n",
            "conv_pw_9_relu (ReLU)        (None, 8, 8, 512)         0         \n",
            "_________________________________________________________________\n",
            "conv_dw_10 (DepthwiseConv2D) (None, 8, 8, 512)         4608      \n",
            "_________________________________________________________________\n",
            "conv_dw_10_bn (BatchNormaliz (None, 8, 8, 512)         2048      \n",
            "_________________________________________________________________\n",
            "conv_dw_10_relu (ReLU)       (None, 8, 8, 512)         0         \n",
            "_________________________________________________________________\n",
            "conv_pw_10 (Conv2D)          (None, 8, 8, 512)         262144    \n",
            "_________________________________________________________________\n",
            "conv_pw_10_bn (BatchNormaliz (None, 8, 8, 512)         2048      \n",
            "_________________________________________________________________\n",
            "conv_pw_10_relu (ReLU)       (None, 8, 8, 512)         0         \n",
            "_________________________________________________________________\n",
            "conv_dw_11 (DepthwiseConv2D) (None, 8, 8, 512)         4608      \n",
            "_________________________________________________________________\n",
            "conv_dw_11_bn (BatchNormaliz (None, 8, 8, 512)         2048      \n",
            "_________________________________________________________________\n",
            "conv_dw_11_relu (ReLU)       (None, 8, 8, 512)         0         \n",
            "_________________________________________________________________\n",
            "conv_pw_11 (Conv2D)          (None, 8, 8, 512)         262144    \n",
            "_________________________________________________________________\n",
            "conv_pw_11_bn (BatchNormaliz (None, 8, 8, 512)         2048      \n",
            "_________________________________________________________________\n",
            "conv_pw_11_relu (ReLU)       (None, 8, 8, 512)         0         \n",
            "_________________________________________________________________\n",
            "conv_pad_12 (ZeroPadding2D)  (None, 9, 9, 512)         0         \n",
            "_________________________________________________________________\n",
            "conv_dw_12 (DepthwiseConv2D) (None, 4, 4, 512)         4608      \n",
            "_________________________________________________________________\n",
            "conv_dw_12_bn (BatchNormaliz (None, 4, 4, 512)         2048      \n",
            "_________________________________________________________________\n",
            "conv_dw_12_relu (ReLU)       (None, 4, 4, 512)         0         \n",
            "_________________________________________________________________\n",
            "conv_pw_12 (Conv2D)          (None, 4, 4, 1024)        524288    \n",
            "_________________________________________________________________\n",
            "conv_pw_12_bn (BatchNormaliz (None, 4, 4, 1024)        4096      \n",
            "_________________________________________________________________\n",
            "conv_pw_12_relu (ReLU)       (None, 4, 4, 1024)        0         \n",
            "_________________________________________________________________\n",
            "conv_dw_13 (DepthwiseConv2D) (None, 4, 4, 1024)        9216      \n",
            "_________________________________________________________________\n",
            "conv_dw_13_bn (BatchNormaliz (None, 4, 4, 1024)        4096      \n",
            "_________________________________________________________________\n",
            "conv_dw_13_relu (ReLU)       (None, 4, 4, 1024)        0         \n",
            "_________________________________________________________________\n",
            "conv_pw_13 (Conv2D)          (None, 4, 4, 1024)        1048576   \n",
            "_________________________________________________________________\n",
            "conv_pw_13_bn (BatchNormaliz (None, 4, 4, 1024)        4096      \n",
            "_________________________________________________________________\n",
            "conv_pw_13_relu (ReLU)       (None, 4, 4, 1024)        0         \n",
            "_________________________________________________________________\n",
            "global_average_pooling2d_4 ( (None, 1024)              0         \n",
            "_________________________________________________________________\n",
            "dense_9 (Dense)              (None, 1024)              1049600   \n",
            "_________________________________________________________________\n",
            "dense_10 (Dense)             (None, 512)               524800    \n",
            "_________________________________________________________________\n",
            "dropout_3 (Dropout)          (None, 512)               0         \n",
            "_________________________________________________________________\n",
            "dense_11 (Dense)             (None, 512)               262656    \n",
            "_________________________________________________________________\n",
            "dropout_4 (Dropout)          (None, 512)               0         \n",
            "_________________________________________________________________\n",
            "dense_12 (Dense)             (None, 49)                25137     \n",
            "=================================================================\n",
            "Total params: 5,091,057\n",
            "Trainable params: 1,862,193\n",
            "Non-trainable params: 3,228,864\n",
            "_________________________________________________________________\n",
            "None\n",
            "Found 4674 images belonging to 49 classes.\n",
            "Found 798 images belonging to 49 classes.\n",
            "Epoch 1/20\n",
            "4674/4674 [==============================] - 586s 125ms/step - loss: 0.4838 - acc: 0.8655 - val_loss: 0.3238 - val_acc: 0.9113\n",
            "Epoch 2/20\n",
            "4674/4674 [==============================] - 580s 124ms/step - loss: 0.1015 - acc: 0.9702 - val_loss: 0.3655 - val_acc: 0.9184\n",
            "Epoch 3/20\n",
            "4674/4674 [==============================] - 580s 124ms/step - loss: 0.0702 - acc: 0.9808 - val_loss: 0.4137 - val_acc: 0.9120\n",
            "Epoch 4/20\n",
            "4674/4674 [==============================] - 578s 124ms/step - loss: 0.0571 - acc: 0.9846 - val_loss: 0.4685 - val_acc: 0.9032\n",
            "Epoch 5/20\n",
            "4674/4674 [==============================] - 586s 125ms/step - loss: 0.0506 - acc: 0.9869 - val_loss: 0.4282 - val_acc: 0.9170\n",
            "Epoch 6/20\n",
            "4674/4674 [==============================] - 581s 124ms/step - loss: 0.0482 - acc: 0.9877 - val_loss: 0.4538 - val_acc: 0.9106\n",
            "Epoch 7/20\n",
            "4674/4674 [==============================] - 587s 126ms/step - loss: 0.0479 - acc: 0.9881 - val_loss: 0.3929 - val_acc: 0.9171\n",
            "Epoch 8/20\n",
            "4674/4674 [==============================] - 594s 127ms/step - loss: 0.0481 - acc: 0.9883 - val_loss: 0.5417 - val_acc: 0.9058\n",
            "Epoch 9/20\n",
            "4674/4674 [==============================] - 593s 127ms/step - loss: 0.0400 - acc: 0.9905 - val_loss: 0.4527 - val_acc: 0.9296\n",
            "Epoch 10/20\n",
            "4674/4674 [==============================] - 595s 127ms/step - loss: 0.0408 - acc: 0.9909 - val_loss: 0.5862 - val_acc: 0.9087\n",
            "Epoch 11/20\n",
            "4674/4674 [==============================] - 600s 128ms/step - loss: 0.0383 - acc: 0.9918 - val_loss: 0.7728 - val_acc: 0.8943\n",
            "Epoch 12/20\n",
            "4674/4674 [==============================] - 599s 128ms/step - loss: 0.0436 - acc: 0.9909 - val_loss: 0.4823 - val_acc: 0.9223\n",
            "Epoch 13/20\n",
            "4674/4674 [==============================] - 600s 128ms/step - loss: 0.0408 - acc: 0.9914 - val_loss: 0.8216 - val_acc: 0.8773\n",
            "Epoch 14/20\n",
            "4674/4674 [==============================] - 597s 128ms/step - loss: 0.0419 - acc: 0.9914 - val_loss: 0.5576 - val_acc: 0.9182\n",
            "Epoch 15/20\n",
            "4674/4674 [==============================] - 597s 128ms/step - loss: 0.0427 - acc: 0.9913 - val_loss: 0.5309 - val_acc: 0.9137\n",
            "Epoch 16/20\n",
            "4674/4674 [==============================] - 596s 127ms/step - loss: 0.0404 - acc: 0.9922 - val_loss: 0.6121 - val_acc: 0.9224\n",
            "Epoch 17/20\n",
            "4674/4674 [==============================] - 592s 127ms/step - loss: 0.0378 - acc: 0.9928 - val_loss: 0.5759 - val_acc: 0.9073\n",
            "Epoch 18/20\n",
            "4674/4674 [==============================] - 590s 126ms/step - loss: 0.0388 - acc: 0.9928 - val_loss: 0.5785 - val_acc: 0.9221\n",
            "Epoch 19/20\n",
            "4674/4674 [==============================] - 599s 128ms/step - loss: 0.0424 - acc: 0.9925 - val_loss: 0.6545 - val_acc: 0.9186\n",
            "Epoch 20/20\n",
            "4674/4674 [==============================] - 600s 128ms/step - loss: 0.0411 - acc: 0.9931 - val_loss: 0.8365 - val_acc: 0.8978\n"
          ],
          "name": "stdout"
        }
      ]
    },
    {
      "metadata": {
        "id": "O0t3NFG5qlmI",
        "colab_type": "code",
        "colab": {}
      },
      "cell_type": "code",
      "source": [
        ""
      ],
      "execution_count": 0,
      "outputs": []
    }
  ]
}